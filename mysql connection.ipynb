{
 "cells": [
  {
   "cell_type": "code",
   "execution_count": 1,
   "metadata": {},
   "outputs": [],
   "source": [
    "import pandas as pd\n",
    "import mysql.connector as sql"
   ]
  },
  {
   "cell_type": "code",
   "execution_count": 3,
   "metadata": {},
   "outputs": [],
   "source": [
    "db_connection=sql.connect(host=\"localhost\", user=\"root\",database='amazonindia')"
   ]
  },
  {
   "cell_type": "code",
   "execution_count": 34,
   "metadata": {},
   "outputs": [],
   "source": [
    "query='''SELECT * FROM customer '''\n"
   ]
  },
  {
   "cell_type": "code",
   "execution_count": 35,
   "metadata": {},
   "outputs": [],
   "source": [
    "data=pd.read_sql(query,db_connection)"
   ]
  },
  {
   "cell_type": "code",
   "execution_count": 36,
   "metadata": {},
   "outputs": [
    {
     "data": {
      "text/html": [
       "<div>\n",
       "<style scoped>\n",
       "    .dataframe tbody tr th:only-of-type {\n",
       "        vertical-align: middle;\n",
       "    }\n",
       "\n",
       "    .dataframe tbody tr th {\n",
       "        vertical-align: top;\n",
       "    }\n",
       "\n",
       "    .dataframe thead th {\n",
       "        text-align: right;\n",
       "    }\n",
       "</style>\n",
       "<table border=\"1\" class=\"dataframe\">\n",
       "  <thead>\n",
       "    <tr style=\"text-align: right;\">\n",
       "      <th></th>\n",
       "      <th>CustomerId</th>\n",
       "      <th>Name</th>\n",
       "      <th>Address</th>\n",
       "      <th>Sex</th>\n",
       "      <th>Phone</th>\n",
       "    </tr>\n",
       "  </thead>\n",
       "  <tbody>\n",
       "    <tr>\n",
       "      <th>0</th>\n",
       "      <td>1</td>\n",
       "      <td>Kunal Kamble</td>\n",
       "      <td>304 classic kalapataru sec-16 new panvel</td>\n",
       "      <td>M</td>\n",
       "      <td>2147483647</td>\n",
       "    </tr>\n",
       "    <tr>\n",
       "      <th>1</th>\n",
       "      <td>2</td>\n",
       "      <td>Nikil kamble</td>\n",
       "      <td>304 classic kalapataru sec-16 new panvel</td>\n",
       "      <td>M</td>\n",
       "      <td>2147483647</td>\n",
       "    </tr>\n",
       "    <tr>\n",
       "      <th>2</th>\n",
       "      <td>3</td>\n",
       "      <td>Nitin Pol</td>\n",
       "      <td>Bhim nager bhind sarvodaya hospital gatkopar-W</td>\n",
       "      <td>M</td>\n",
       "      <td>825693217</td>\n",
       "    </tr>\n",
       "    <tr>\n",
       "      <th>3</th>\n",
       "      <td>4</td>\n",
       "      <td>shekar Pol</td>\n",
       "      <td>Bhim nager bhind sarvodaya hospital gatkopar-W</td>\n",
       "      <td>M</td>\n",
       "      <td>992085396</td>\n",
       "    </tr>\n",
       "    <tr>\n",
       "      <th>4</th>\n",
       "      <td>5</td>\n",
       "      <td>Niru kamble</td>\n",
       "      <td>304 classic kalapataru sec-16 new panvel</td>\n",
       "      <td>M</td>\n",
       "      <td>2147483647</td>\n",
       "    </tr>\n",
       "  </tbody>\n",
       "</table>\n",
       "</div>"
      ],
      "text/plain": [
       "   CustomerId           Name                                         Address  \\\n",
       "0           1   Kunal Kamble        304 classic kalapataru sec-16 new panvel   \n",
       "1           2  Nikil kamble         304 classic kalapataru sec-16 new panvel   \n",
       "2           3      Nitin Pol  Bhim nager bhind sarvodaya hospital gatkopar-W   \n",
       "3           4     shekar Pol  Bhim nager bhind sarvodaya hospital gatkopar-W   \n",
       "4           5    Niru kamble        304 classic kalapataru sec-16 new panvel   \n",
       "\n",
       "  Sex       Phone  \n",
       "0   M  2147483647  \n",
       "1   M  2147483647  \n",
       "2   M   825693217  \n",
       "3   M   992085396  \n",
       "4   M  2147483647  "
      ]
     },
     "execution_count": 36,
     "metadata": {},
     "output_type": "execute_result"
    }
   ],
   "source": [
    "data"
   ]
  },
  {
   "cell_type": "code",
   "execution_count": 24,
   "metadata": {},
   "outputs": [],
   "source": [
    "data.set_index('CustomerId',inplace=True)"
   ]
  },
  {
   "cell_type": "code",
   "execution_count": 25,
   "metadata": {},
   "outputs": [
    {
     "data": {
      "text/html": [
       "<div>\n",
       "<style scoped>\n",
       "    .dataframe tbody tr th:only-of-type {\n",
       "        vertical-align: middle;\n",
       "    }\n",
       "\n",
       "    .dataframe tbody tr th {\n",
       "        vertical-align: top;\n",
       "    }\n",
       "\n",
       "    .dataframe thead th {\n",
       "        text-align: right;\n",
       "    }\n",
       "</style>\n",
       "<table border=\"1\" class=\"dataframe\">\n",
       "  <thead>\n",
       "    <tr style=\"text-align: right;\">\n",
       "      <th></th>\n",
       "      <th>Name</th>\n",
       "      <th>Address</th>\n",
       "      <th>Sex</th>\n",
       "      <th>Phone</th>\n",
       "    </tr>\n",
       "    <tr>\n",
       "      <th>CustomerId</th>\n",
       "      <th></th>\n",
       "      <th></th>\n",
       "      <th></th>\n",
       "      <th></th>\n",
       "    </tr>\n",
       "  </thead>\n",
       "  <tbody>\n",
       "    <tr>\n",
       "      <th>1</th>\n",
       "      <td>Kunal Kamble</td>\n",
       "      <td>304 classic kalapataru sec-16 new panvel</td>\n",
       "      <td>M</td>\n",
       "      <td>2147483647</td>\n",
       "    </tr>\n",
       "    <tr>\n",
       "      <th>2</th>\n",
       "      <td>Nikil kamble</td>\n",
       "      <td>304 classic kalapataru sec-16 new panvel</td>\n",
       "      <td>M</td>\n",
       "      <td>2147483647</td>\n",
       "    </tr>\n",
       "    <tr>\n",
       "      <th>3</th>\n",
       "      <td>Nitin Pol</td>\n",
       "      <td>Bhim nager bhind sarvodaya hospital gatkopar-W</td>\n",
       "      <td>M</td>\n",
       "      <td>825693217</td>\n",
       "    </tr>\n",
       "    <tr>\n",
       "      <th>4</th>\n",
       "      <td>shekar Pol</td>\n",
       "      <td>Bhim nager bhind sarvodaya hospital gatkopar-W</td>\n",
       "      <td>M</td>\n",
       "      <td>992085396</td>\n",
       "    </tr>\n",
       "    <tr>\n",
       "      <th>5</th>\n",
       "      <td>Niru kamble</td>\n",
       "      <td>304 classic kalapataru sec-16 new panvel</td>\n",
       "      <td>M</td>\n",
       "      <td>2147483647</td>\n",
       "    </tr>\n",
       "  </tbody>\n",
       "</table>\n",
       "</div>"
      ],
      "text/plain": [
       "                     Name                                         Address Sex  \\\n",
       "CustomerId                                                                      \n",
       "1            Kunal Kamble        304 classic kalapataru sec-16 new panvel   M   \n",
       "2           Nikil kamble         304 classic kalapataru sec-16 new panvel   M   \n",
       "3               Nitin Pol  Bhim nager bhind sarvodaya hospital gatkopar-W   M   \n",
       "4              shekar Pol  Bhim nager bhind sarvodaya hospital gatkopar-W   M   \n",
       "5             Niru kamble        304 classic kalapataru sec-16 new panvel   M   \n",
       "\n",
       "                 Phone  \n",
       "CustomerId              \n",
       "1           2147483647  \n",
       "2           2147483647  \n",
       "3            825693217  \n",
       "4            992085396  \n",
       "5           2147483647  "
      ]
     },
     "execution_count": 25,
     "metadata": {},
     "output_type": "execute_result"
    }
   ],
   "source": [
    "data"
   ]
  },
  {
   "cell_type": "code",
   "execution_count": 43,
   "metadata": {},
   "outputs": [
    {
     "data": {
      "text/plain": [
       "str"
      ]
     },
     "execution_count": 43,
     "metadata": {},
     "output_type": "execute_result"
    }
   ],
   "source": [
    "type(data['Name'][2])\n"
   ]
  },
  {
   "cell_type": "code",
   "execution_count": 40,
   "metadata": {},
   "outputs": [
    {
     "data": {
      "text/plain": [
       "'Address'"
      ]
     },
     "execution_count": 40,
     "metadata": {},
     "output_type": "execute_result"
    }
   ],
   "source": [
    "data.columns.values[2]"
   ]
  },
  {
   "cell_type": "code",
   "execution_count": 44,
   "metadata": {},
   "outputs": [
    {
     "data": {
      "text/plain": [
       "'shekar Pol'"
      ]
     },
     "execution_count": 44,
     "metadata": {},
     "output_type": "execute_result"
    }
   ],
   "source": [
    "data['Name'][3]"
   ]
  },
  {
   "cell_type": "code",
   "execution_count": 51,
   "metadata": {},
   "outputs": [
    {
     "data": {
      "text/plain": [
       "0    False\n",
       "1    False\n",
       "2    False\n",
       "3    False\n",
       "4    False\n",
       "Name: Name, dtype: bool"
      ]
     },
     "execution_count": 51,
     "metadata": {},
     "output_type": "execute_result"
    }
   ],
   "source": [
    "data['Name']."
   ]
  },
  {
   "cell_type": "code",
   "execution_count": 68,
   "metadata": {},
   "outputs": [
    {
     "data": {
      "text/html": [
       "<div>\n",
       "<style scoped>\n",
       "    .dataframe tbody tr th:only-of-type {\n",
       "        vertical-align: middle;\n",
       "    }\n",
       "\n",
       "    .dataframe tbody tr th {\n",
       "        vertical-align: top;\n",
       "    }\n",
       "\n",
       "    .dataframe thead th {\n",
       "        text-align: right;\n",
       "    }\n",
       "</style>\n",
       "<table border=\"1\" class=\"dataframe\">\n",
       "  <thead>\n",
       "    <tr style=\"text-align: right;\">\n",
       "      <th></th>\n",
       "      <th>CustomerId</th>\n",
       "      <th>Name</th>\n",
       "      <th>Address</th>\n",
       "      <th>Sex</th>\n",
       "      <th>Phone</th>\n",
       "    </tr>\n",
       "  </thead>\n",
       "  <tbody>\n",
       "    <tr>\n",
       "      <th>0</th>\n",
       "      <td>1</td>\n",
       "      <td>Kunal Kamble</td>\n",
       "      <td>304 classic kalapataru sec-16 new panvel</td>\n",
       "      <td>M</td>\n",
       "      <td>7208539604</td>\n",
       "    </tr>\n",
       "    <tr>\n",
       "      <th>1</th>\n",
       "      <td>2</td>\n",
       "      <td>Nikil kamble</td>\n",
       "      <td>304 classic kalapataru sec-16 new panvel</td>\n",
       "      <td>M</td>\n",
       "      <td>7208539609</td>\n",
       "    </tr>\n",
       "    <tr>\n",
       "      <th>2</th>\n",
       "      <td>3</td>\n",
       "      <td>Nitin Pol</td>\n",
       "      <td>Bhim nager bhind sarvodaya hospital gatkopar-W</td>\n",
       "      <td>M</td>\n",
       "      <td>825693217</td>\n",
       "    </tr>\n",
       "    <tr>\n",
       "      <th>3</th>\n",
       "      <td>4</td>\n",
       "      <td>shekar Pol</td>\n",
       "      <td>Bhim nager bhind sarvodaya hospital gatkopar-W</td>\n",
       "      <td>M</td>\n",
       "      <td>992085396</td>\n",
       "    </tr>\n",
       "    <tr>\n",
       "      <th>4</th>\n",
       "      <td>5</td>\n",
       "      <td>Niru kamble</td>\n",
       "      <td>304 classic kalapataru sec-16 new panvel</td>\n",
       "      <td>M</td>\n",
       "      <td>2147483647</td>\n",
       "    </tr>\n",
       "  </tbody>\n",
       "</table>\n",
       "</div>"
      ],
      "text/plain": [
       "   CustomerId           Name                                         Address  \\\n",
       "0           1   Kunal Kamble        304 classic kalapataru sec-16 new panvel   \n",
       "1           2  Nikil kamble         304 classic kalapataru sec-16 new panvel   \n",
       "2           3      Nitin Pol  Bhim nager bhind sarvodaya hospital gatkopar-W   \n",
       "3           4     shekar Pol  Bhim nager bhind sarvodaya hospital gatkopar-W   \n",
       "4           5    Niru kamble        304 classic kalapataru sec-16 new panvel   \n",
       "\n",
       "  Sex       Phone  \n",
       "0   M  7208539604  \n",
       "1   M  7208539609  \n",
       "2   M   825693217  \n",
       "3   M   992085396  \n",
       "4   M  2147483647  "
      ]
     },
     "execution_count": 68,
     "metadata": {},
     "output_type": "execute_result"
    }
   ],
   "source": [
    "data"
   ]
  },
  {
   "cell_type": "code",
   "execution_count": null,
   "metadata": {},
   "outputs": [],
   "source": []
  },
  {
   "cell_type": "code",
   "execution_count": null,
   "metadata": {},
   "outputs": [],
   "source": []
  },
  {
   "cell_type": "code",
   "execution_count": null,
   "metadata": {},
   "outputs": [],
   "source": []
  },
  {
   "cell_type": "code",
   "execution_count": null,
   "metadata": {},
   "outputs": [],
   "source": []
  }
 ],
 "metadata": {
  "kernelspec": {
   "display_name": "Python 3",
   "language": "python",
   "name": "python3"
  },
  "language_info": {
   "codemirror_mode": {
    "name": "ipython",
    "version": 3
   },
   "file_extension": ".py",
   "mimetype": "text/x-python",
   "name": "python",
   "nbconvert_exporter": "python",
   "pygments_lexer": "ipython3",
   "version": "3.8.3"
  }
 },
 "nbformat": 4,
 "nbformat_minor": 4
}
