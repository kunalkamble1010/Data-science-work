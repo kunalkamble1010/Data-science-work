{
 "cells": [
  {
   "cell_type": "markdown",
   "metadata": {},
   "source": [
    "import web scraping module "
   ]
  },
  {
   "cell_type": "markdown",
   "metadata": {},
   "source": [
    "requests for requesting web site for get, post\n",
    "BeautifulSoup for scraping"
   ]
  },
  {
   "cell_type": "code",
   "execution_count": 2,
   "metadata": {},
   "outputs": [],
   "source": [
    "from bs4 import BeautifulSoup\n",
    "import requests\n"
   ]
  },
  {
   "cell_type": "markdown",
   "metadata": {},
   "source": [
    "access the web site by using 'get' fuction"
   ]
  },
  {
   "cell_type": "code",
   "execution_count": 3,
   "metadata": {},
   "outputs": [],
   "source": [
    "result = requests.get('https://www.instagram.com/p/CD-JIYzJcLh/?utm_source=ig_web_copy_link')"
   ]
  },
  {
   "cell_type": "markdown",
   "metadata": {},
   "source": [
    "make sure the website is accessible,we can ensure that we obtain a 200 ok"
   ]
  },
  {
   "cell_type": "code",
   "execution_count": 4,
   "metadata": {},
   "outputs": [
    {
     "name": "stdout",
     "output_type": "stream",
     "text": [
      "200\n"
     ]
    }
   ],
   "source": [
    "print(result.status_code)"
   ]
  },
  {
   "cell_type": "markdown",
   "metadata": {},
   "source": [
    "store the content of your website in veriable"
   ]
  },
  {
   "cell_type": "code",
   "execution_count": 5,
   "metadata": {},
   "outputs": [],
   "source": [
    "scr=result.content"
   ]
  },
  {
   "cell_type": "code",
   "execution_count": null,
   "metadata": {},
   "outputs": [],
   "source": []
  },
  {
   "cell_type": "code",
   "execution_count": null,
   "metadata": {},
   "outputs": [],
   "source": []
  },
  {
   "cell_type": "code",
   "execution_count": 6,
   "metadata": {},
   "outputs": [],
   "source": [
    "soup = BeautifulSoup(scr,'lxml')"
   ]
  },
  {
   "cell_type": "code",
   "execution_count": 7,
   "metadata": {},
   "outputs": [
    {
     "name": "stdout",
     "output_type": "stream",
     "text": [
      "<!DOCTYPE html>\n",
      "<html class=\"no-js not-logged-in client-root\" lang=\"en\">\n",
      "<head>\n",
      "<meta charset=\"utf-8\"/>\n",
      "<meta content=\"IE=edge\" http-equiv=\"X-UA-Compatible\"/>\n",
      "<title>\n",
      "Manjeet Kaur 🔵 on Instagram: “मेरी फ़ोटो like कर के inbox में आजाओ। 😘\n",
      " Follow Karein Mujhe\n",
      "🌹@simmiii1160 🌹”\n",
      "</title>\n",
      "<meta content=\"noimageindex, noarchive\" name=\"robots\"/>\n",
      "<meta content=\"default\" name=\"apple-mobile-web-app-status-bar-style\"/>\n",
      "<meta content=\"yes\" name=\"mobile-web-app-capable\"/>\n",
      "<meta content=\"#ffffff\" name=\"theme-color\"/>\n",
      "<meta content=\"width=device-width, initial-scale=1, minimum-scale=1, maximum-scale=1, viewport-fit=cover\" id=\"viewport\" name=\"viewport\"/>\n",
      "<link href=\"/data/manifest.json\" rel=\"manifest\"/>\n",
      "<link as=\"style\" crossorigin=\"anonymous\" href=\"/static/bundles/metro/ConsumerUICommons.css/fe572fc667cc.css\" rel=\"preload\" type=\"text/css\"/>\n",
      "<link as=\"style\" crossorigin=\"anonymous\" href=\"/static/bundles/metro/Consumer.css/e5e326c746ac.css\" rel=\"preload\" type=\"text/css\"/>\n",
      "<link as=\"style\" crossorigin=\"anonymous\" href=\"/static/bundles/metro/PostPageContainer.css/eb2004623ac0.css\" rel=\"preload\" type=\"text/css\"/>\n",
      "<link as=\"script\" crossorigin=\"anonymous\" href=\"/static/bundles/metro/Vendor.js/5a56d51ae30f.js\" rel=\"preload\" type=\"text/javascript\"/>\n",
      "<link as=\"script\" crossorigin=\"anonymous\" href=\"/static/bundles/metro/en_US.js/1d48e7514fff.js\" rel=\"preload\" type=\"text/javascript\"/>\n",
      "<link as=\"script\" crossorigin=\"anonymous\" href=\"/static/bundles/metro/ConsumerLibCommons.js/ee3d36a43b0d.js\" rel=\"preload\" type=\"text/javascript\"/>\n",
      "<link as=\"script\" crossorigin=\"anonymous\" href=\"/static/bundles/metro/ConsumerUICommons.js/d2e6557ed9bb.js\" rel=\"preload\" type=\"text/javascript\"/>\n",
      "<link as=\"script\" crossorigin=\"anonymous\" href=\"/static/bundles/metro/ConsumerAsyncCommons.js/ee398168663c.js\" rel=\"preload\" type=\"text/javascript\"/>\n",
      "<link as=\"script\" crossorigin=\"anonymous\" href=\"/static/bundles/metro/Consumer.js/db05911cfc10.js\" rel=\"preload\" type=\"text/javascript\"/>\n",
      "<link as=\"script\" crossorigin=\"anonymous\" href=\"/static/bundles/metro/PostPageContainer.js/3be91f648ca8.js\" rel=\"preload\" type=\"text/javascript\"/>\n",
      "<script type=\"text/javascript\">\n",
      "        (function() {\n",
      "  var docElement = document.documentElement;\n",
      "  var classRE = new RegExp('(^|\\\\s)no-js(\\\\s|$)');\n",
      "  var className = docElement.className;\n",
      "  docElement.className = className.replace(classRE, '$1js$2');\n",
      "})();\n",
      "</script>\n",
      "<script type=\"text/javascript\">\n",
      "(function() {\n",
      "  if ('PerformanceObserver' in window && 'PerformancePaintTiming' in window) {\n",
      "    window.__bufferedPerformance = [];\n",
      "    var ob = new PerformanceObserver(function(e) {\n",
      "      window.__bufferedPerformance.push.apply(window.__bufferedPerformance,e.getEntries());\n",
      "    });\n",
      "    ob.observe({entryTypes:['paint']});\n",
      "  }\n",
      "\n",
      "  window.__bufferedErrors = [];\n",
      "  window.onerror = function(message, url, line, column, error) {\n",
      "    window.__bufferedErrors.push({\n",
      "      message: message,\n",
      "      url: url,\n",
      "      line: line,\n",
      "      column: column,\n",
      "      error: error\n",
      "    });\n",
      "    return false;\n",
      "  };\n",
      "  window.__initialData = {\n",
      "    pending: true,\n",
      "    waiting: []\n",
      "  };\n",
      "  function asyncFetchSharedData(extra) {\n",
      "    var sharedDataReq = new XMLHttpRequest();\n",
      "    sharedDataReq.onreadystatechange = function() {\n",
      "          if (sharedDataReq.readyState === 4) {\n",
      "            if(sharedDataReq.status === 200){\n",
      "              var sharedData = JSON.parse(sharedDataReq.responseText);\n",
      "              window.__initialDataLoaded(sharedData, extra);\n",
      "            }\n",
      "          }\n",
      "        }\n",
      "    sharedDataReq.open('GET', '/data/shared_data/', true);\n",
      "    sharedDataReq.send(null);\n",
      "  }\n",
      "  function notifyLoaded(item, data) {\n",
      "    item.pending = false;\n",
      "    item.data = data;\n",
      "    for (var i = 0;i < item.waiting.length; ++i) {\n",
      "      item.waiting[i].resolve(item.data);\n",
      "    }\n",
      "    item.waiting = [];\n",
      "  }\n",
      "  function notifyError(item, msg) {\n",
      "    item.pending = false;\n",
      "    item.error = new Error(msg);\n",
      "    for (var i = 0;i < item.waiting.length; ++i) {\n",
      "      item.waiting[i].reject(item.error);\n",
      "    }\n",
      "    item.waiting = [];\n",
      "  }\n",
      "  window.__initialDataLoaded = function(initialData, extraData) {\n",
      "    if (extraData) {\n",
      "      for (var key in extraData) {\n",
      "        initialData[key] = extraData[key];\n",
      "      }\n",
      "    }\n",
      "    notifyLoaded(window.__initialData, initialData);\n",
      "  };\n",
      "  window.__initialDataError = function(msg) {\n",
      "    notifyError(window.__initialData, msg);\n",
      "  };\n",
      "  window.__additionalData = {};\n",
      "  window.__pendingAdditionalData = function(paths) {\n",
      "    for (var i = 0;i < paths.length; ++i) {\n",
      "      window.__additionalData[paths[i]] = {\n",
      "        pending: true,\n",
      "        waiting: []\n",
      "      };\n",
      "    }\n",
      "  };\n",
      "  window.__additionalDataLoaded = function(path, data) {\n",
      "    if (path in window.__additionalData) {\n",
      "      notifyLoaded(window.__additionalData[path], data);\n",
      "    } else {\n",
      "      console.error('Unexpected additional data loaded \"' + path + '\"');\n",
      "    }\n",
      "  };\n",
      "  window.__additionalDataError = function(path, msg) {\n",
      "    if (path in window.__additionalData) {\n",
      "      notifyError(window.__additionalData[path], msg);\n",
      "    } else {\n",
      "      console.error('Unexpected additional data encountered an error \"' + path + '\": ' + msg);\n",
      "    }\n",
      "  };\n",
      "  \n",
      "})();\n",
      "</script><script type=\"text/javascript\">\n",
      "\n",
      "/*\n",
      " Copyright 2018 Google Inc. All Rights Reserved.\n",
      " Licensed under the Apache License, Version 2.0 (the \"License\");\n",
      " you may not use this file except in compliance with the License.\n",
      " You may obtain a copy of the License at\n",
      "\n",
      "     http://www.apache.org/licenses/LICENSE-2.0\n",
      "\n",
      " Unless required by applicable law or agreed to in writing, software\n",
      " distributed under the License is distributed on an \"AS IS\" BASIS,\n",
      " WITHOUT WARRANTIES OR CONDITIONS OF ANY KIND, either express or implied.\n",
      " See the License for the specific language governing permissions and\n",
      " limitations under the License.\n",
      "*/\n",
      "\n",
      "(function(){function g(a,c){b||(b=a,f=c,h.forEach(function(a){removeEventListener(a,l,e)}),m())}function m(){b&&f&&0<d.length&&(d.forEach(function(a){a(b,f)}),d=[])}function n(a,c){function k(){g(a,c);d()}function b(){d()}function d(){removeEventListener(\"pointerup\",k,e);removeEventListener(\"pointercancel\",b,e)}addEventListener(\"pointerup\",k,e);addEventListener(\"pointercancel\",b,e)}function l(a){if(a.cancelable){var c=performance.now(),b=a.timeStamp;b>c&&(c=+new Date);c-=b;\"pointerdown\"==a.type?n(c,\n",
      "a):g(c,a)}}var e={passive:!0,capture:!0},h=[\"click\",\"mousedown\",\"keydown\",\"touchstart\",\"pointerdown\"],b,f,d=[];h.forEach(function(a){addEventListener(a,l,e)});window.perfMetrics=window.perfMetrics||{};window.perfMetrics.onFirstInputDelay=function(a){d.push(a);m()}})();\n",
      "</script>\n",
      "<link href=\"/static/images/ico/apple-touch-icon-76x76-precomposed.png/666282be8229.png\" rel=\"apple-touch-icon-precomposed\" sizes=\"76x76\"/>\n",
      "<link href=\"/static/images/ico/apple-touch-icon-120x120-precomposed.png/8a5bd3f267b1.png\" rel=\"apple-touch-icon-precomposed\" sizes=\"120x120\"/>\n",
      "<link href=\"/static/images/ico/apple-touch-icon-152x152-precomposed.png/68193576ffc5.png\" rel=\"apple-touch-icon-precomposed\" sizes=\"152x152\"/>\n",
      "<link href=\"/static/images/ico/apple-touch-icon-167x167-precomposed.png/4985e31c9100.png\" rel=\"apple-touch-icon-precomposed\" sizes=\"167x167\"/>\n",
      "<link href=\"/static/images/ico/apple-touch-icon-180x180-precomposed.png/c06fdb2357bd.png\" rel=\"apple-touch-icon-precomposed\" sizes=\"180x180\"/>\n",
      "<link href=\"/static/images/ico/favicon-192.png/68d99ba29cc8.png\" rel=\"icon\" sizes=\"192x192\"/>\n",
      "<link color=\"#262626\" href=\"/static/images/ico/favicon.svg/fc72dd4bfde8.svg\" rel=\"mask-icon\"/>\n",
      "<link href=\"/static/images/ico/favicon.ico/36b3ee2d91ed.ico\" rel=\"shortcut icon\" type=\"image/x-icon\"/>\n",
      "<link href=\"https://www.instagram.com/p/CD-JIYzJcLh/\" rel=\"canonical\"/>\n",
      "<meta content=\"10.5k Likes, 477 Comments - Manjeet Kaur 🔵 (@jito_kaur) on Instagram: “मेरी फ़ोटो like कर के inbox में आजाओ। 😘\n",
      " Follow Karein Mujhe\n",
      "🌹@simmiii1160 🌹”\" name=\"description\"/>\n",
      "<meta content=\"Instagram\" property=\"og:site_name\"/>\n",
      "<meta content=\"Manjeet Kaur 🔵 on Instagram: “मेरी फ़ोटो like कर के inbox में आजाओ। 😘\n",
      " Follow Karein Mujhe\n",
      "🌹@simmiii1160 🌹”\" property=\"og:title\"/>\n",
      "<meta content=\"https://instagram.fbom14-1.fna.fbcdn.net/v/t51.2885-15/e35/117653053_772584570143114_2309783572216950298_n.jpg?_nc_ht=instagram.fbom14-1.fna.fbcdn.net&amp;_nc_cat=1&amp;_nc_ohc=NC7OuKkMaBEAX8dC1c4&amp;oh=efffc7bd001fd7711d4b4d9976f912f7&amp;oe=5F64C631\" property=\"og:image\"/>\n",
      "<meta content=\"10.5k Likes, 477 Comments - Manjeet Kaur 🔵 (@jito_kaur) on Instagram: “मेरी फ़ोटो like कर के inbox में आजाओ। 😘\n",
      " Follow Karein Mujhe\n",
      "🌹@simmiii1160 🌹”\" property=\"og:description\"/>\n",
      "<meta content=\"124024574287414\" property=\"fb:app_id\"/>\n",
      "<meta content=\"https://www.instagram.com/p/CD-JIYzJcLh/\" property=\"og:url\"/>\n",
      "<meta content=\"10965380545\" property=\"instapp:owner_user_id\"/>\n",
      "<meta content=\"Instagram\" property=\"al:ios:app_name\"/>\n",
      "<meta content=\"389801252\" property=\"al:ios:app_store_id\"/>\n",
      "<meta content=\"instagram://media?id=2377377812100530913\" property=\"al:ios:url\"/>\n",
      "<meta content=\"Instagram\" property=\"al:android:app_name\"/>\n",
      "<meta content=\"com.instagram.android\" property=\"al:android:package\"/>\n",
      "<meta content=\"https://www.instagram.com/p/CD-JIYzJcLh/\" property=\"al:android:url\"/>\n",
      "<meta content=\"image\" name=\"medium\"/>\n",
      "<meta content=\"instapp:photo\" property=\"og:type\"/>\n",
      "<link href=\"android-app://com.instagram.android/https/instagram.com/p/CD-JIYzJcLh/\" rel=\"alternate\"/>\n",
      "<link href=\"https://www.instagram.com/p/CD-JIYzJcLh/?utm_source=ig_web_copy_link\" hreflang=\"x-default\" rel=\"alternate\"/>\n",
      "<link href=\"https://www.instagram.com/p/CD-JIYzJcLh/?utm_source=ig_web_copy_link&amp;hl=en\" hreflang=\"en\" rel=\"alternate\"/>\n",
      "<link href=\"https://www.instagram.com/p/CD-JIYzJcLh/?utm_source=ig_web_copy_link&amp;hl=fr\" hreflang=\"fr\" rel=\"alternate\"/>\n",
      "<link href=\"https://www.instagram.com/p/CD-JIYzJcLh/?utm_source=ig_web_copy_link&amp;hl=it\" hreflang=\"it\" rel=\"alternate\"/>\n",
      "<link href=\"https://www.instagram.com/p/CD-JIYzJcLh/?utm_source=ig_web_copy_link&amp;hl=de\" hreflang=\"de\" rel=\"alternate\"/>\n",
      "<link href=\"https://www.instagram.com/p/CD-JIYzJcLh/?utm_source=ig_web_copy_link&amp;hl=es\" hreflang=\"es\" rel=\"alternate\"/>\n",
      "<link href=\"https://www.instagram.com/p/CD-JIYzJcLh/?utm_source=ig_web_copy_link&amp;hl=zh-cn\" hreflang=\"zh-cn\" rel=\"alternate\"/>\n",
      "<link href=\"https://www.instagram.com/p/CD-JIYzJcLh/?utm_source=ig_web_copy_link&amp;hl=zh-tw\" hreflang=\"zh-tw\" rel=\"alternate\"/>\n",
      "<link href=\"https://www.instagram.com/p/CD-JIYzJcLh/?utm_source=ig_web_copy_link&amp;hl=ja\" hreflang=\"ja\" rel=\"alternate\"/>\n",
      "<link href=\"https://www.instagram.com/p/CD-JIYzJcLh/?utm_source=ig_web_copy_link&amp;hl=ko\" hreflang=\"ko\" rel=\"alternate\"/>\n",
      "<link href=\"https://www.instagram.com/p/CD-JIYzJcLh/?utm_source=ig_web_copy_link&amp;hl=pt\" hreflang=\"pt\" rel=\"alternate\"/>\n",
      "<link href=\"https://www.instagram.com/p/CD-JIYzJcLh/?utm_source=ig_web_copy_link&amp;hl=pt-br\" hreflang=\"pt-br\" rel=\"alternate\"/>\n",
      "<link href=\"https://www.instagram.com/p/CD-JIYzJcLh/?utm_source=ig_web_copy_link&amp;hl=af\" hreflang=\"af\" rel=\"alternate\"/>\n",
      "<link href=\"https://www.instagram.com/p/CD-JIYzJcLh/?utm_source=ig_web_copy_link&amp;hl=cs\" hreflang=\"cs\" rel=\"alternate\"/>\n",
      "<link href=\"https://www.instagram.com/p/CD-JIYzJcLh/?utm_source=ig_web_copy_link&amp;hl=da\" hreflang=\"da\" rel=\"alternate\"/>\n",
      "<link href=\"https://www.instagram.com/p/CD-JIYzJcLh/?utm_source=ig_web_copy_link&amp;hl=el\" hreflang=\"el\" rel=\"alternate\"/>\n",
      "<link href=\"https://www.instagram.com/p/CD-JIYzJcLh/?utm_source=ig_web_copy_link&amp;hl=fi\" hreflang=\"fi\" rel=\"alternate\"/>\n",
      "<link href=\"https://www.instagram.com/p/CD-JIYzJcLh/?utm_source=ig_web_copy_link&amp;hl=hr\" hreflang=\"hr\" rel=\"alternate\"/>\n",
      "<link href=\"https://www.instagram.com/p/CD-JIYzJcLh/?utm_source=ig_web_copy_link&amp;hl=hu\" hreflang=\"hu\" rel=\"alternate\"/>\n",
      "<link href=\"https://www.instagram.com/p/CD-JIYzJcLh/?utm_source=ig_web_copy_link&amp;hl=id\" hreflang=\"id\" rel=\"alternate\"/>\n",
      "<link href=\"https://www.instagram.com/p/CD-JIYzJcLh/?utm_source=ig_web_copy_link&amp;hl=ms\" hreflang=\"ms\" rel=\"alternate\"/>\n",
      "<link href=\"https://www.instagram.com/p/CD-JIYzJcLh/?utm_source=ig_web_copy_link&amp;hl=nb\" hreflang=\"nb\" rel=\"alternate\"/>\n",
      "<link href=\"https://www.instagram.com/p/CD-JIYzJcLh/?utm_source=ig_web_copy_link&amp;hl=nl\" hreflang=\"nl\" rel=\"alternate\"/>\n",
      "<link href=\"https://www.instagram.com/p/CD-JIYzJcLh/?utm_source=ig_web_copy_link&amp;hl=pl\" hreflang=\"pl\" rel=\"alternate\"/>\n",
      "<link href=\"https://www.instagram.com/p/CD-JIYzJcLh/?utm_source=ig_web_copy_link&amp;hl=ru\" hreflang=\"ru\" rel=\"alternate\"/>\n",
      "<link href=\"https://www.instagram.com/p/CD-JIYzJcLh/?utm_source=ig_web_copy_link&amp;hl=sk\" hreflang=\"sk\" rel=\"alternate\"/>\n",
      "<link href=\"https://www.instagram.com/p/CD-JIYzJcLh/?utm_source=ig_web_copy_link&amp;hl=sv\" hreflang=\"sv\" rel=\"alternate\"/>\n",
      "<link href=\"https://www.instagram.com/p/CD-JIYzJcLh/?utm_source=ig_web_copy_link&amp;hl=th\" hreflang=\"th\" rel=\"alternate\"/>\n",
      "<link href=\"https://www.instagram.com/p/CD-JIYzJcLh/?utm_source=ig_web_copy_link&amp;hl=tl\" hreflang=\"tl\" rel=\"alternate\"/>\n",
      "<link href=\"https://www.instagram.com/p/CD-JIYzJcLh/?utm_source=ig_web_copy_link&amp;hl=tr\" hreflang=\"tr\" rel=\"alternate\"/>\n",
      "<link href=\"https://www.instagram.com/p/CD-JIYzJcLh/?utm_source=ig_web_copy_link&amp;hl=hi\" hreflang=\"hi\" rel=\"alternate\"/>\n",
      "<link href=\"https://www.instagram.com/p/CD-JIYzJcLh/?utm_source=ig_web_copy_link&amp;hl=bn\" hreflang=\"bn\" rel=\"alternate\"/>\n",
      "<link href=\"https://www.instagram.com/p/CD-JIYzJcLh/?utm_source=ig_web_copy_link&amp;hl=gu\" hreflang=\"gu\" rel=\"alternate\"/>\n",
      "<link href=\"https://www.instagram.com/p/CD-JIYzJcLh/?utm_source=ig_web_copy_link&amp;hl=kn\" hreflang=\"kn\" rel=\"alternate\"/>\n",
      "<link href=\"https://www.instagram.com/p/CD-JIYzJcLh/?utm_source=ig_web_copy_link&amp;hl=ml\" hreflang=\"ml\" rel=\"alternate\"/>\n",
      "<link href=\"https://www.instagram.com/p/CD-JIYzJcLh/?utm_source=ig_web_copy_link&amp;hl=mr\" hreflang=\"mr\" rel=\"alternate\"/>\n",
      "<link href=\"https://www.instagram.com/p/CD-JIYzJcLh/?utm_source=ig_web_copy_link&amp;hl=pa\" hreflang=\"pa\" rel=\"alternate\"/>\n",
      "<link href=\"https://www.instagram.com/p/CD-JIYzJcLh/?utm_source=ig_web_copy_link&amp;hl=ta\" hreflang=\"ta\" rel=\"alternate\"/>\n",
      "<link href=\"https://www.instagram.com/p/CD-JIYzJcLh/?utm_source=ig_web_copy_link&amp;hl=te\" hreflang=\"te\" rel=\"alternate\"/>\n",
      "<link href=\"https://www.instagram.com/p/CD-JIYzJcLh/?utm_source=ig_web_copy_link&amp;hl=ne\" hreflang=\"ne\" rel=\"alternate\"/>\n",
      "<link href=\"https://www.instagram.com/p/CD-JIYzJcLh/?utm_source=ig_web_copy_link&amp;hl=si\" hreflang=\"si\" rel=\"alternate\"/>\n",
      "<link href=\"https://www.instagram.com/p/CD-JIYzJcLh/?utm_source=ig_web_copy_link&amp;hl=ur\" hreflang=\"ur\" rel=\"alternate\"/>\n",
      "<link href=\"https://www.instagram.com/p/CD-JIYzJcLh/?utm_source=ig_web_copy_link&amp;hl=vi\" hreflang=\"vi\" rel=\"alternate\"/>\n",
      "<link href=\"https://www.instagram.com/p/CD-JIYzJcLh/?utm_source=ig_web_copy_link&amp;hl=bg\" hreflang=\"bg\" rel=\"alternate\"/>\n",
      "<link href=\"https://www.instagram.com/p/CD-JIYzJcLh/?utm_source=ig_web_copy_link&amp;hl=fr-ca\" hreflang=\"fr-ca\" rel=\"alternate\"/>\n",
      "<link href=\"https://www.instagram.com/p/CD-JIYzJcLh/?utm_source=ig_web_copy_link&amp;hl=ro\" hreflang=\"ro\" rel=\"alternate\"/>\n",
      "<link href=\"https://www.instagram.com/p/CD-JIYzJcLh/?utm_source=ig_web_copy_link&amp;hl=sr\" hreflang=\"sr\" rel=\"alternate\"/>\n",
      "<link href=\"https://www.instagram.com/p/CD-JIYzJcLh/?utm_source=ig_web_copy_link&amp;hl=uk\" hreflang=\"uk\" rel=\"alternate\"/>\n",
      "<link href=\"https://www.instagram.com/p/CD-JIYzJcLh/?utm_source=ig_web_copy_link&amp;hl=zh-hk\" hreflang=\"zh-hk\" rel=\"alternate\"/>\n",
      "<link href=\"https://www.instagram.com/p/CD-JIYzJcLh/?utm_source=ig_web_copy_link&amp;hl=es-la\" hreflang=\"es-ni\" rel=\"alternate\"/>\n",
      "<link href=\"https://www.instagram.com/p/CD-JIYzJcLh/?utm_source=ig_web_copy_link&amp;hl=es-la\" hreflang=\"es-cr\" rel=\"alternate\"/>\n",
      "<link href=\"https://www.instagram.com/p/CD-JIYzJcLh/?utm_source=ig_web_copy_link&amp;hl=es-la\" hreflang=\"es-py\" rel=\"alternate\"/>\n",
      "<link href=\"https://www.instagram.com/p/CD-JIYzJcLh/?utm_source=ig_web_copy_link&amp;hl=es-la\" hreflang=\"es-ve\" rel=\"alternate\"/>\n",
      "<link href=\"https://www.instagram.com/p/CD-JIYzJcLh/?utm_source=ig_web_copy_link&amp;hl=es-la\" hreflang=\"es-cu\" rel=\"alternate\"/>\n",
      "<link href=\"https://www.instagram.com/p/CD-JIYzJcLh/?utm_source=ig_web_copy_link&amp;hl=es-la\" hreflang=\"es-co\" rel=\"alternate\"/>\n",
      "<link href=\"https://www.instagram.com/p/CD-JIYzJcLh/?utm_source=ig_web_copy_link&amp;hl=es-la\" hreflang=\"es-bo\" rel=\"alternate\"/>\n",
      "<link href=\"https://www.instagram.com/p/CD-JIYzJcLh/?utm_source=ig_web_copy_link&amp;hl=es-la\" hreflang=\"es-uy\" rel=\"alternate\"/>\n",
      "<link href=\"https://www.instagram.com/p/CD-JIYzJcLh/?utm_source=ig_web_copy_link&amp;hl=es-la\" hreflang=\"es-cl\" rel=\"alternate\"/>\n",
      "<link href=\"https://www.instagram.com/p/CD-JIYzJcLh/?utm_source=ig_web_copy_link&amp;hl=es-la\" hreflang=\"es-pr\" rel=\"alternate\"/>\n",
      "<link href=\"https://www.instagram.com/p/CD-JIYzJcLh/?utm_source=ig_web_copy_link&amp;hl=es-la\" hreflang=\"es-do\" rel=\"alternate\"/>\n",
      "<link href=\"https://www.instagram.com/p/CD-JIYzJcLh/?utm_source=ig_web_copy_link&amp;hl=es-la\" hreflang=\"es-pa\" rel=\"alternate\"/>\n",
      "<link href=\"https://www.instagram.com/p/CD-JIYzJcLh/?utm_source=ig_web_copy_link&amp;hl=es-la\" hreflang=\"es-hn\" rel=\"alternate\"/>\n",
      "<link href=\"https://www.instagram.com/p/CD-JIYzJcLh/?utm_source=ig_web_copy_link&amp;hl=es-la\" hreflang=\"es-ec\" rel=\"alternate\"/>\n",
      "<link href=\"https://www.instagram.com/p/CD-JIYzJcLh/?utm_source=ig_web_copy_link&amp;hl=es-la\" hreflang=\"es-ar\" rel=\"alternate\"/>\n",
      "<link href=\"https://www.instagram.com/p/CD-JIYzJcLh/?utm_source=ig_web_copy_link&amp;hl=es-la\" hreflang=\"es-mx\" rel=\"alternate\"/>\n",
      "<link href=\"https://www.instagram.com/p/CD-JIYzJcLh/?utm_source=ig_web_copy_link&amp;hl=es-la\" hreflang=\"es-gt\" rel=\"alternate\"/>\n",
      "<link href=\"https://www.instagram.com/p/CD-JIYzJcLh/?utm_source=ig_web_copy_link&amp;hl=es-la\" hreflang=\"es-sv\" rel=\"alternate\"/>\n",
      "<link href=\"https://www.instagram.com/p/CD-JIYzJcLh/?utm_source=ig_web_copy_link&amp;hl=es-la\" hreflang=\"es-pe\" rel=\"alternate\"/>\n",
      "</head>\n",
      "<body class=\"\" style=\"\n",
      "    background: white;\n",
      "\">\n",
      "<div id=\"react-root\">\n",
      "<span><svg height=\"50\" style=\"position:absolute;top:50%;left:50%;margin:-25px 0 0 -25px;fill:#c7c7c7\" viewbox=\"0 0 50 50\" width=\"50\"><path d=\"M25 1c-6.52 0-7.34.03-9.9.14-2.55.12-4.3.53-5.82 1.12a11.76 11.76 0 0 0-4.25 2.77 11.76 11.76 0 0 0-2.77 4.25c-.6 1.52-1 3.27-1.12 5.82C1.03 17.66 1 18.48 1 25c0 6.5.03 7.33.14 9.88.12 2.56.53 4.3 1.12 5.83a11.76 11.76 0 0 0 2.77 4.25 11.76 11.76 0 0 0 4.25 2.77c1.52.59 3.27 1 5.82 1.11 2.56.12 3.38.14 9.9.14 6.5 0 7.33-.02 9.88-.14 2.56-.12 4.3-.52 5.83-1.11a11.76 11.76 0 0 0 4.25-2.77 11.76 11.76 0 0 0 2.77-4.25c.59-1.53 1-3.27 1.11-5.83.12-2.55.14-3.37.14-9.89 0-6.51-.02-7.33-.14-9.89-.12-2.55-.52-4.3-1.11-5.82a11.76 11.76 0 0 0-2.77-4.25 11.76 11.76 0 0 0-4.25-2.77c-1.53-.6-3.27-1-5.83-1.12A170.2 170.2 0 0 0 25 1zm0 4.32c6.4 0 7.16.03 9.69.14 2.34.11 3.6.5 4.45.83 1.12.43 1.92.95 2.76 1.8a7.43 7.43 0 0 1 1.8 2.75c.32.85.72 2.12.82 4.46.12 2.53.14 3.29.14 9.7 0 6.4-.02 7.16-.14 9.69-.1 2.34-.5 3.6-.82 4.45a7.43 7.43 0 0 1-1.8 2.76 7.43 7.43 0 0 1-2.76 1.8c-.84.32-2.11.72-4.45.82-2.53.12-3.3.14-9.7.14-6.4 0-7.16-.02-9.7-.14-2.33-.1-3.6-.5-4.45-.82a7.43 7.43 0 0 1-2.76-1.8 7.43 7.43 0 0 1-1.8-2.76c-.32-.84-.71-2.11-.82-4.45a166.5 166.5 0 0 1-.14-9.7c0-6.4.03-7.16.14-9.7.11-2.33.5-3.6.83-4.45a7.43 7.43 0 0 1 1.8-2.76 7.43 7.43 0 0 1 2.75-1.8c.85-.32 2.12-.71 4.46-.82 2.53-.11 3.29-.14 9.7-.14zm0 7.35a12.32 12.32 0 1 0 0 24.64 12.32 12.32 0 0 0 0-24.64zM25 33a8 8 0 1 1 0-16 8 8 0 0 1 0 16zm15.68-20.8a2.88 2.88 0 1 0-5.76 0 2.88 2.88 0 0 0 5.76 0z\"></path></svg></span>\n",
      "</div>\n",
      "<link crossorigin=\"anonymous\" href=\"/static/bundles/metro/ConsumerUICommons.css/fe572fc667cc.css\" rel=\"stylesheet\" type=\"text/css\"/>\n",
      "<link crossorigin=\"anonymous\" href=\"/static/bundles/metro/Consumer.css/e5e326c746ac.css\" rel=\"stylesheet\" type=\"text/css\"/>\n",
      "<script type=\"text/javascript\">window._sharedData = {\"config\":{\"csrf_token\":\"5J7KlM33u0uXrAulxV53A3EuojxAsG57\",\"viewer\":null,\"viewerId\":null},\"country_code\":\"IN\",\"language_code\":\"en\",\"locale\":\"en_US\",\"entry_data\":{\"PostPage\":[{\"graphql\":{\"shortcode_media\":{\"__typename\":\"GraphImage\",\"id\":\"2377377812100530913\",\"shortcode\":\"CD-JIYzJcLh\",\"dimensions\":{\"height\":1350,\"width\":1080},\"gating_info\":null,\"fact_check_overall_rating\":null,\"fact_check_information\":null,\"sensitivity_friction_info\":null,\"media_overlay_info\":null,\"media_preview\":\"ACEq1zdpJnyyGA4JHrWHfXMiybVI9vlyalhQWS8ktuIznHFRQRkFrlxkgkADnr34/IUgQ63u2aJ45CfNwxGRjjGRjtxjpWE8rSHcxJNdCcPIm4YbBYfQgjFc1QhvQfmim0UATbmlBLMWOemc/jiujtZGMIBGCOBnjOO9S20C7AQAB2wOTSyxbh8vIPUH+lSykisZX3YOMjgc9vrWFJaSLlyAF+tdDFEEO4jpgY9qlIUHHGG5Hv7UkymrnI7DRXVfZo/7o/IUVVyLFtmA4XoOB9KZuGPeoGPzin96RoiX73IOD/OqsrArtPBHpxj0qcf4VVn60Ma7Dd59TRS4ooIP/9k=\",\"display_url\":\"https://instagram.fbom14-1.fna.fbcdn.net/v/t51.2885-15/e35/117653053_772584570143114_2309783572216950298_n.jpg?_nc_ht=instagram.fbom14-1.fna.fbcdn.net\\u0026_nc_cat=1\\u0026_nc_ohc=NC7OuKkMaBEAX8dC1c4\\u0026oh=efffc7bd001fd7711d4b4d9976f912f7\\u0026oe=5F64C631\",\"display_resources\":[{\"src\":\"https://instagram.fbom14-1.fna.fbcdn.net/v/t51.2885-15/sh0.08/e35/p640x640/117653053_772584570143114_2309783572216950298_n.jpg?_nc_ht=instagram.fbom14-1.fna.fbcdn.net\\u0026_nc_cat=1\\u0026_nc_ohc=NC7OuKkMaBEAX8dC1c4\\u0026oh=2f0bb9bdd431085a381765270276693c\\u0026oe=5F631F5B\",\"config_width\":640,\"config_height\":800},{\"src\":\"https://instagram.fbom14-1.fna.fbcdn.net/v/t51.2885-15/sh0.08/e35/p750x750/117653053_772584570143114_2309783572216950298_n.jpg?_nc_ht=instagram.fbom14-1.fna.fbcdn.net\\u0026_nc_cat=1\\u0026_nc_ohc=NC7OuKkMaBEAX8dC1c4\\u0026oh=254c7b7fb994dd3f6288120d1f31c5ba\\u0026oe=5F648D1F\",\"config_width\":750,\"config_height\":937},{\"src\":\"https://instagram.fbom14-1.fna.fbcdn.net/v/t51.2885-15/e35/117653053_772584570143114_2309783572216950298_n.jpg?_nc_ht=instagram.fbom14-1.fna.fbcdn.net\\u0026_nc_cat=1\\u0026_nc_ohc=NC7OuKkMaBEAX8dC1c4\\u0026oh=efffc7bd001fd7711d4b4d9976f912f7\\u0026oe=5F64C631\",\"config_width\":1080,\"config_height\":1350}],\"accessibility_caption\":\"Photo shared by Manjeet Kaur \\ud83d\\udd35 on August 16, 2020 tagging @simmiii1160. Image may contain: 1 person, closeup\",\"is_video\":false,\"tracking_token\":\"eyJ2ZXJzaW9uIjo1LCJwYXlsb2FkIjp7ImlzX2FuYWx5dGljc190cmFja2VkIjp0cnVlLCJ1dWlkIjoiNjM1Nzk3ZGNiNzI2NGNkZWEwOWViYmQ2MTIxNTI4MmYyMzc3Mzc3ODEyMTAwNTMwOTEzIn0sInNpZ25hdHVyZSI6IiJ9\",\"edge_media_to_tagged_user\":{\"edges\":[{\"node\":{\"user\":{\"full_name\":\"Suman Bala\",\"id\":\"16686115606\",\"is_verified\":false,\"profile_pic_url\":\"https://instagram.fbom14-1.fna.fbcdn.net/v/t51.2885-19/s150x150/66262195_1347857662028538_8999887532481052672_n.jpg?_nc_ht=instagram.fbom14-1.fna.fbcdn.net\\u0026_nc_ohc=TRCW_dQzcW8AX-7SCbC\\u0026oh=681d3ea5e718db17a824419c556744a7\\u0026oe=5F61D0FD\",\"username\":\"simmiii1160\"},\"x\":0.6277752,\"y\":0.77458507}}]},\"edge_media_to_caption\":{\"edges\":[{\"node\":{\"text\":\"\\u092e\\u0947\\u0930\\u0940 \\u095e\\u094b\\u091f\\u094b like \\u0915\\u0930 \\u0915\\u0947 inbox \\u092e\\u0947\\u0902 \\u0906\\u091c\\u093e\\u0913\\u0964 \\ud83d\\ude18\\n Follow Karein Mujhe\\n\\ud83c\\udf39@simmiii1160 \\ud83c\\udf39\"}}]},\"caption_is_edited\":false,\"has_ranked_comments\":false,\"edge_media_to_parent_comment\":{\"count\":477,\"page_info\":{\"has_next_page\":true,\"end_cursor\":\"QVFBSWZjRUZvdVp5cTJuOW5jRWFkdzQ1ajF3MVdMNnMzWHhONXF1MG5lQVdxQk9LZE5OOVRPWjJwOHZDQ1hhOTFwQmhfTTlaZHJOX1hsRWZBd2c5UTFEUw==\"},\"edges\":[{\"node\":{\"id\":\"17863493927026157\",\"text\":\"\\u2764\\ufe0f\\u2764\\ufe0f\\u2764\\ufe0f\\u2764\\ufe0f\\u2764\\ufe0f\",\"created_at\":1597650390,\"did_report_as_spam\":false,\"owner\":{\"id\":\"16486184159\",\"is_verified\":false,\"profile_pic_url\":\"https://instagram.fbom14-1.fna.fbcdn.net/v/t51.2885-19/s150x150/107161341_479204819595509_7521855583222889890_n.jpg?_nc_ht=instagram.fbom14-1.fna.fbcdn.net\\u0026_nc_ohc=z-5MH1izkAwAX8tg5-b\\u0026oh=d2b2af9fa05fb6cbeb20e0cef9a39b30\\u0026oe=5F634524\",\"username\":\"thinarafiq\"},\"viewer_has_liked\":false,\"edge_liked_by\":{\"count\":0},\"is_restricted_pending\":false,\"edge_threaded_comments\":{\"count\":0,\"page_info\":{\"has_next_page\":false,\"end_cursor\":null},\"edges\":[]}}},{\"node\":{\"id\":\"17895766570569423\",\"text\":\"\\ud83d\\ude22\\ud83d\\ude22\\ud83d\\ude22\\ud83d\\ude22\\ud83d\\ude22\",\"created_at\":1597650392,\"did_report_as_spam\":false,\"owner\":{\"id\":\"16486184159\",\"is_verified\":false,\"profile_pic_url\":\"https://instagram.fbom14-1.fna.fbcdn.net/v/t51.2885-19/s150x150/107161341_479204819595509_7521855583222889890_n.jpg?_nc_ht=instagram.fbom14-1.fna.fbcdn.net\\u0026_nc_ohc=z-5MH1izkAwAX8tg5-b\\u0026oh=d2b2af9fa05fb6cbeb20e0cef9a39b30\\u0026oe=5F634524\",\"username\":\"thinarafiq\"},\"viewer_has_liked\":false,\"edge_liked_by\":{\"count\":0},\"is_restricted_pending\":false,\"edge_threaded_comments\":{\"count\":0,\"page_info\":{\"has_next_page\":false,\"end_cursor\":null},\"edges\":[]}}},{\"node\":{\"id\":\"17919381568436670\",\"text\":\"Hii\\ud83d\\ude0d\\ud83d\\ude0d\\ud83d\\ude0d\\u2764\\ufe0f\\u2764\\ufe0f\",\"created_at\":1597651106,\"did_report_as_spam\":false,\"owner\":{\"id\":\"39465782278\",\"is_verified\":false,\"profile_pic_url\":\"https://instagram.fbom14-1.fna.fbcdn.net/v/t51.2885-19/s150x150/116067910_594385747845558_2523677203420774497_n.jpg?_nc_ht=instagram.fbom14-1.fna.fbcdn.net\\u0026_nc_ohc=NuFT_l-RnNQAX9vhFlm\\u0026oh=5254c9dde5a35a00884cd70e1cde6992\\u0026oe=5F61E87E\",\"username\":\"sureshali68\"},\"viewer_has_liked\":false,\"edge_liked_by\":{\"count\":1},\"is_restricted_pending\":false,\"edge_threaded_comments\":{\"count\":0,\"page_info\":{\"has_next_page\":false,\"end_cursor\":null},\"edges\":[]}}},{\"node\":{\"id\":\"17967638410325213\",\"text\":\"\\ud83d\\udc4c\\ud83d\\udc4c\\ud83d\\udc4c\\ud83d\\udc4c\",\"created_at\":1597651165,\"did_report_as_spam\":false,\"owner\":{\"id\":\"2345841728\",\"is_verified\":false,\"profile_pic_url\":\"https://instagram.fbom14-1.fna.fbcdn.net/v/t51.2885-19/s150x150/75002971_763727730792915_8240218421816459264_n.jpg?_nc_ht=instagram.fbom14-1.fna.fbcdn.net\\u0026_nc_ohc=RHtA0BMaDUMAX8Krl9D\\u0026oh=6f2af97c3117c76f8d7c25f2bc7ac66f\\u0026oe=5F64014D\",\"username\":\"vipul.vaghela93_00\"},\"viewer_has_liked\":false,\"edge_liked_by\":{\"count\":0},\"is_restricted_pending\":false,\"edge_threaded_comments\":{\"count\":0,\"page_info\":{\"has_next_page\":false,\"end_cursor\":null},\"edges\":[]}}},{\"node\":{\"id\":\"17875893928834096\",\"text\":\"\\ud83d\\udd25\\ud83d\\udd25\\ud83d\\udd25\\ud83d\\udd25\",\"created_at\":1597651167,\"did_report_as_spam\":false,\"owner\":{\"id\":\"2345841728\",\"is_verified\":false,\"profile_pic_url\":\"https://instagram.fbom14-1.fna.fbcdn.net/v/t51.2885-19/s150x150/75002971_763727730792915_8240218421816459264_n.jpg?_nc_ht=instagram.fbom14-1.fna.fbcdn.net\\u0026_nc_ohc=RHtA0BMaDUMAX8Krl9D\\u0026oh=6f2af97c3117c76f8d7c25f2bc7ac66f\\u0026oe=5F64014D\",\"username\":\"vipul.vaghela93_00\"},\"viewer_has_liked\":false,\"edge_liked_by\":{\"count\":0},\"is_restricted_pending\":false,\"edge_threaded_comments\":{\"count\":0,\"page_info\":{\"has_next_page\":false,\"end_cursor\":null},\"edges\":[]}}},{\"node\":{\"id\":\"17887299934637595\",\"text\":\"Nice\",\"created_at\":1597651170,\"did_report_as_spam\":false,\"owner\":{\"id\":\"2345841728\",\"is_verified\":false,\"profile_pic_url\":\"https://instagram.fbom14-1.fna.fbcdn.net/v/t51.2885-19/s150x150/75002971_763727730792915_8240218421816459264_n.jpg?_nc_ht=instagram.fbom14-1.fna.fbcdn.net\\u0026_nc_ohc=RHtA0BMaDUMAX8Krl9D\\u0026oh=6f2af97c3117c76f8d7c25f2bc7ac66f\\u0026oe=5F64014D\",\"username\":\"vipul.vaghela93_00\"},\"viewer_has_liked\":false,\"edge_liked_by\":{\"count\":0},\"is_restricted_pending\":false,\"edge_threaded_comments\":{\"count\":0,\"page_info\":{\"has_next_page\":false,\"end_cursor\":null},\"edges\":[]}}},{\"node\":{\"id\":\"17869724218906862\",\"text\":\"Osm\",\"created_at\":1597651172,\"did_report_as_spam\":false,\"owner\":{\"id\":\"2345841728\",\"is_verified\":false,\"profile_pic_url\":\"https://instagram.fbom14-1.fna.fbcdn.net/v/t51.2885-19/s150x150/75002971_763727730792915_8240218421816459264_n.jpg?_nc_ht=instagram.fbom14-1.fna.fbcdn.net\\u0026_nc_ohc=RHtA0BMaDUMAX8Krl9D\\u0026oh=6f2af97c3117c76f8d7c25f2bc7ac66f\\u0026oe=5F64014D\",\"username\":\"vipul.vaghela93_00\"},\"viewer_has_liked\":false,\"edge_liked_by\":{\"count\":0},\"is_restricted_pending\":false,\"edge_threaded_comments\":{\"count\":0,\"page_info\":{\"has_next_page\":false,\"end_cursor\":null},\"edges\":[]}}},{\"node\":{\"id\":\"17921304721428537\",\"text\":\"\\u2764\\ufe0f\",\"created_at\":1597651268,\"did_report_as_spam\":false,\"owner\":{\"id\":\"39887159793\",\"is_verified\":false,\"profile_pic_url\":\"https://instagram.fbom14-1.fna.fbcdn.net/v/t51.2885-19/s150x150/116841754_164851241782566_8372282755953422351_n.jpg?_nc_ht=instagram.fbom14-1.fna.fbcdn.net\\u0026_nc_ohc=pHlXMycCkXEAX_WK9XE\\u0026oh=81d66ddc0ce2a657ba384afcec9511c5\\u0026oe=5F64BFC6\",\"username\":\"cam_girl_zoya\"},\"viewer_has_liked\":false,\"edge_liked_by\":{\"count\":0},\"is_restricted_pending\":false,\"edge_threaded_comments\":{\"count\":0,\"page_info\":{\"has_next_page\":false,\"end_cursor\":null},\"edges\":[]}}},{\"node\":{\"id\":\"17879001298785032\",\"text\":\"\\ud83d\\udd25\",\"created_at\":1597651497,\"did_report_as_spam\":false,\"owner\":{\"id\":\"40337703743\",\"is_verified\":false,\"profile_pic_url\":\"https://instagram.fbom14-1.fna.fbcdn.net/v/t51.2885-19/s150x150/117806674_169875921313934_675424197396206328_n.jpg?_nc_ht=instagram.fbom14-1.fna.fbcdn.net\\u0026_nc_ohc=z0ayad2Z4psAX-Amjp3\\u0026oh=f8833ed49bb214dbec470a4cb932178b\\u0026oe=5F6452BC\",\"username\":\"pooja_p05\"},\"viewer_has_liked\":false,\"edge_liked_by\":{\"count\":0},\"is_restricted_pending\":false,\"edge_threaded_comments\":{\"count\":0,\"page_info\":{\"has_next_page\":false,\"end_cursor\":null},\"edges\":[]}}},{\"node\":{\"id\":\"17956472986341011\",\"text\":\"\\u2764\\ufe0f\",\"created_at\":1597651501,\"did_report_as_spam\":false,\"owner\":{\"id\":\"21698471052\",\"is_verified\":false,\"profile_pic_url\":\"https://instagram.fbom14-1.fna.fbcdn.net/v/t51.2885-19/s150x150/73049370_1497111217094681_3142447323590688768_n.jpg?_nc_ht=instagram.fbom14-1.fna.fbcdn.net\\u0026_nc_ohc=VXtDo46uWGsAX-N-3s1\\u0026oh=da4427b72cd813604e5ab87423c31ac2\\u0026oe=5F648778\",\"username\":\"chainanikanhaiya\"},\"viewer_has_liked\":false,\"edge_liked_by\":{\"count\":0},\"is_restricted_pending\":false,\"edge_threaded_comments\":{\"count\":0,\"page_info\":{\"has_next_page\":false,\"end_cursor\":null},\"edges\":[]}}},{\"node\":{\"id\":\"18072419416221642\",\"text\":\"Hello\",\"created_at\":1597651600,\"did_report_as_spam\":false,\"owner\":{\"id\":\"40388897819\",\"is_verified\":false,\"profile_pic_url\":\"https://instagram.fbom14-1.fna.fbcdn.net/v/t51.2885-19/s150x150/117395256_336786954014297_2320846198432886605_n.jpg?_nc_ht=instagram.fbom14-1.fna.fbcdn.net\\u0026_nc_ohc=uA2Ek5mF0esAX9sbbgh\\u0026oh=1d7087d7fece56e827ade6f3cec80033\\u0026oe=5F647EFE\",\"username\":\"zahid.choudry.75\"},\"viewer_has_liked\":false,\"edge_liked_by\":{\"count\":0},\"is_restricted_pending\":false,\"edge_threaded_comments\":{\"count\":0,\"page_info\":{\"has_next_page\":false,\"end_cursor\":null},\"edges\":[]}}},{\"node\":{\"id\":\"18142116664076923\",\"text\":\"Nice aunty aapke number dena\",\"created_at\":1597651698,\"did_report_as_spam\":false,\"owner\":{\"id\":\"39692236601\",\"is_verified\":false,\"profile_pic_url\":\"https://instagram.fbom14-1.fna.fbcdn.net/v/t51.2885-19/s150x150/117184118_360979571558553_4806216300204561779_n.jpg?_nc_ht=instagram.fbom14-1.fna.fbcdn.net\\u0026_nc_ohc=Bum_RGJX6SkAX8-7pyU\\u0026oh=baa73c586039caa1701b7e0b092067ad\\u0026oe=5F62BD9E\",\"username\":\"hemraj.suwasiya.750\"},\"viewer_has_liked\":false,\"edge_liked_by\":{\"count\":0},\"is_restricted_pending\":false,\"edge_threaded_comments\":{\"count\":0,\"page_info\":{\"has_next_page\":false,\"end_cursor\":null},\"edges\":[]}}},{\"node\":{\"id\":\"18114718936183767\",\"text\":\"Nice pic mam \\u2764\\ufe0f\\u2764\\ufe0f\\u2764\\ufe0f\\u2764\\ufe0f\",\"created_at\":1597651956,\"did_report_as_spam\":false,\"owner\":{\"id\":\"11591623542\",\"is_verified\":false,\"profile_pic_url\":\"https://instagram.fbom14-1.fna.fbcdn.net/v/t51.2885-19/s150x150/116978448_160314932325651_3851239626030496533_n.jpg?_nc_ht=instagram.fbom14-1.fna.fbcdn.net\\u0026_nc_ohc=TGV8CKoJjVgAX-O2POg\\u0026oh=393bc04e3084dc1309545dff47fff629\\u0026oe=5F6230F4\",\"username\":\"ishachabbra2\"},\"viewer_has_liked\":false,\"edge_liked_by\":{\"count\":0},\"is_restricted_pending\":false,\"edge_threaded_comments\":{\"count\":0,\"page_info\":{\"has_next_page\":false,\"end_cursor\":null},\"edges\":[]}}},{\"node\":{\"id\":\"18032842315277283\",\"text\":\"Mast lag rhi ho jii... \\ud83d\\ude02\",\"created_at\":1597652137,\"did_report_as_spam\":false,\"owner\":{\"id\":\"6197664970\",\"is_verified\":false,\"profile_pic_url\":\"https://instagram.fbom14-1.fna.fbcdn.net/v/t51.2885-19/s150x150/117097009_166290491624332_6095061869947988667_n.jpg?_nc_ht=instagram.fbom14-1.fna.fbcdn.net\\u0026_nc_ohc=LD4e4vcGCmwAX8uw7IR\\u0026oh=1b09d4dcc8cbde865a7051ac95128eb4\\u0026oe=5F65619D\",\"username\":\"itsakrammodel\"},\"viewer_has_liked\":false,\"edge_liked_by\":{\"count\":0},\"is_restricted_pending\":false,\"edge_threaded_comments\":{\"count\":0,\"page_info\":{\"has_next_page\":false,\"end_cursor\":null},\"edges\":[]}}},{\"node\":{\"id\":\"18006570952292290\",\"text\":\"Nice pic\",\"created_at\":1597652417,\"did_report_as_spam\":false,\"owner\":{\"id\":\"19263608072\",\"is_verified\":false,\"profile_pic_url\":\"https://instagram.fbom14-1.fna.fbcdn.net/v/t51.2885-19/s150x150/69044494_358441851697876_8943465015264935936_n.jpg?_nc_ht=instagram.fbom14-1.fna.fbcdn.net\\u0026_nc_ohc=KxAVjS_7CXgAX_PNOfg\\u0026oh=d99e10c7368bc0e1f91f95b30c9c20f2\\u0026oe=5F64C662\",\"username\":\"ashoksain.ashoksain.5268\"},\"viewer_has_liked\":false,\"edge_liked_by\":{\"count\":0},\"is_restricted_pending\":false,\"edge_threaded_comments\":{\"count\":0,\"page_info\":{\"has_next_page\":false,\"end_cursor\":null},\"edges\":[]}}},{\"node\":{\"id\":\"17905378351493459\",\"text\":\"Muje follow karo me tumhe waths up no dungi \\u2764\\ufe0f\\ud83d\\ude0d\",\"created_at\":1597652583,\"did_report_as_spam\":false,\"owner\":{\"id\":\"40337703743\",\"is_verified\":false,\"profile_pic_url\":\"https://instagram.fbom14-1.fna.fbcdn.net/v/t51.2885-19/s150x150/117806674_169875921313934_675424197396206328_n.jpg?_nc_ht=instagram.fbom14-1.fna.fbcdn.net\\u0026_nc_ohc=z0ayad2Z4psAX-Amjp3\\u0026oh=f8833ed49bb214dbec470a4cb932178b\\u0026oe=5F6452BC\",\"username\":\"pooja_p05\"},\"viewer_has_liked\":false,\"edge_liked_by\":{\"count\":0},\"is_restricted_pending\":false,\"edge_threaded_comments\":{\"count\":0,\"page_info\":{\"has_next_page\":false,\"end_cursor\":null},\"edges\":[]}}},{\"node\":{\"id\":\"17883549010723247\",\"text\":\"\\ud83d\\ude22Hey koi hai kya... Ur daddy is so bored alone here any girlz here who likes daddy am waiting here for \\ud83d\\udc95\\ud83d\\udc95 dm me girlz\\ud83d\\ude14\\ud83d\\ude14\\ud83d\\ude14koi ladki hai kya jise daddy k sath pyar krna accha lagta ho...\",\"created_at\":1597652765,\"did_report_as_spam\":false,\"owner\":{\"id\":\"32196494002\",\"is_verified\":false,\"profile_pic_url\":\"https://instagram.fbom14-1.fna.fbcdn.net/v/t51.2885-19/s150x150/90090478_217956309556486_9091137819241349120_n.jpg?_nc_ht=instagram.fbom14-1.fna.fbcdn.net\\u0026_nc_ohc=ITn2tSby1NMAX_1W4rc\\u0026oh=4e0686e25353b62c6f16ce84105e7940\\u0026oe=5F62A7A7\",\"username\":\"lonely_dadddyy7\"},\"viewer_has_liked\":false,\"edge_liked_by\":{\"count\":0},\"is_restricted_pending\":false,\"edge_threaded_comments\":{\"count\":0,\"page_info\":{\"has_next_page\":false,\"end_cursor\":null},\"edges\":[]}}},{\"node\":{\"id\":\"18041176294264260\",\"text\":\"Good \\ud83d\\ude2e\\ud83d\\ude2e\\ud83d\\ude0d\\ud83d\\ude0d\\ud83d\\udc4c\\ud83d\\udc4c\",\"created_at\":1597652769,\"did_report_as_spam\":false,\"owner\":{\"id\":\"17409728751\",\"is_verified\":false,\"profile_pic_url\":\"https://instagram.fbom14-1.fna.fbcdn.net/v/t51.2885-19/s150x150/66118268_1369069216583566_4047133891880812544_n.jpg?_nc_ht=instagram.fbom14-1.fna.fbcdn.net\\u0026_nc_ohc=9L3cHHiHeZcAX947B2A\\u0026oh=9b915279444158db1b0fd9134d18f25b\\u0026oe=5F623B99\",\"username\":\"ahirshelarvaghoshi\"},\"viewer_has_liked\":false,\"edge_liked_by\":{\"count\":0},\"is_restricted_pending\":false,\"edge_threaded_comments\":{\"count\":0,\"page_info\":{\"has_next_page\":false,\"end_cursor\":null},\"edges\":[]}}},{\"node\":{\"id\":\"18130034203110292\",\"text\":\"hii\",\"created_at\":1597652925,\"did_report_as_spam\":false,\"owner\":{\"id\":\"38000231556\",\"is_verified\":false,\"profile_pic_url\":\"https://instagram.fbom14-1.fna.fbcdn.net/v/t51.2885-19/s150x150/117414873_687452455316144_3452261128899705542_n.jpg?_nc_ht=instagram.fbom14-1.fna.fbcdn.net\\u0026_nc_ohc=uaebxIof5b0AX9pHuYa\\u0026oh=5ba40be007c1ba73af0ec87e95105cc4\\u0026oe=5F628CAE\",\"username\":\"vijay.kig\"},\"viewer_has_liked\":false,\"edge_liked_by\":{\"count\":0},\"is_restricted_pending\":false,\"edge_threaded_comments\":{\"count\":0,\"page_info\":{\"has_next_page\":false,\"end_cursor\":null},\"edges\":[]}}},{\"node\":{\"id\":\"17855818781160788\",\"text\":\"Watch my story \\ud83d\\udd25\",\"created_at\":1597653246,\"did_report_as_spam\":false,\"owner\":{\"id\":\"13106705989\",\"is_verified\":false,\"profile_pic_url\":\"https://instagram.fbom14-1.fna.fbcdn.net/v/t51.2885-19/s150x150/115729325_297417551472464_8348727373184240569_n.jpg?_nc_ht=instagram.fbom14-1.fna.fbcdn.net\\u0026_nc_ohc=1uxV1Wg7NvcAX-dbth3\\u0026oh=f3ae3a3bc27426253e8a41ee4393a425\\u0026oe=5F635BCF\",\"username\":\"hindi_comic\"},\"viewer_has_liked\":false,\"edge_liked_by\":{\"count\":0},\"is_restricted_pending\":false,\"edge_threaded_comments\":{\"count\":0,\"page_info\":{\"has_next_page\":false,\"end_cursor\":null},\"edges\":[]}}},{\"node\":{\"id\":\"17885314627676851\",\"text\":\"\\u2764\\ufe0f\\u2764\\ufe0f\\u2764\\ufe0f\\u2764\\ufe0f\\ud83d\\udc98\\ud83d\\udc98\\ud83d\\udc98\\ud83d\\udc98\\ud83d\\udc98\",\"created_at\":1597653498,\"did_report_as_spam\":false,\"owner\":{\"id\":\"11427855311\",\"is_verified\":false,\"profile_pic_url\":\"https://instagram.fbom14-1.fna.fbcdn.net/v/t51.2885-19/s150x150/103419509_738560356913484_2102923934588734760_n.jpg?_nc_ht=instagram.fbom14-1.fna.fbcdn.net\\u0026_nc_ohc=XXeyBvi7UOEAX_ntREQ\\u0026oh=068fbbcaea4a546bf8139aa07b44a6d9\\u0026oe=5F656912\",\"username\":\"mhusaenmhusaen\"},\"viewer_has_liked\":false,\"edge_liked_by\":{\"count\":0},\"is_restricted_pending\":false,\"edge_threaded_comments\":{\"count\":0,\"page_info\":{\"has_next_page\":false,\"end_cursor\":null},\"edges\":[]}}},{\"node\":{\"id\":\"17873236246878747\",\"text\":\"So sweet jan dil to\",\"created_at\":1597653596,\"did_report_as_spam\":false,\"owner\":{\"id\":\"7604862837\",\"is_verified\":false,\"profile_pic_url\":\"https://instagram.fbom14-1.fna.fbcdn.net/v/t51.2885-19/s150x150/36973520_179110579626919_548673215841435648_n.jpg?_nc_ht=instagram.fbom14-1.fna.fbcdn.net\\u0026_nc_ohc=Y0ELvAbWc1oAX_ufrg3\\u0026oh=2698ef9c7232c31a7a46af8969c3af32\\u0026oe=5F6344DE\",\"username\":\"nav.bajwa.357\"},\"viewer_has_liked\":false,\"edge_liked_by\":{\"count\":0},\"is_restricted_pending\":false,\"edge_threaded_comments\":{\"count\":0,\"page_info\":{\"has_next_page\":false,\"end_cursor\":null},\"edges\":[]}}},{\"node\":{\"id\":\"18160698547041153\",\"text\":\"Nice look\",\"created_at\":1597653618,\"did_report_as_spam\":false,\"owner\":{\"id\":\"37326174852\",\"is_verified\":false,\"profile_pic_url\":\"https://instagram.fbom14-1.fna.fbcdn.net/v/t51.2885-19/s150x150/104005546_665670734277120_8960483711595831931_n.jpg?_nc_ht=instagram.fbom14-1.fna.fbcdn.net\\u0026_nc_ohc=RgwZtmOIp2IAX-Tab8Z\\u0026oh=5b6523e33cd4b03e93269b9965cb59f2\\u0026oe=5F63FB87\",\"username\":\"altaf.mansuri.9026040\"},\"viewer_has_liked\":false,\"edge_liked_by\":{\"count\":0},\"is_restricted_pending\":false,\"edge_threaded_comments\":{\"count\":0,\"page_info\":{\"has_next_page\":false,\"end_cursor\":null},\"edges\":[]}}},{\"node\":{\"id\":\"17885095195679099\",\"text\":\"\\ud83d\\udc4c\\ud83d\\udc4c\\u2764\\ufe0f\\u2764\\ufe0f\",\"created_at\":1597653709,\"did_report_as_spam\":false,\"owner\":{\"id\":\"27070588144\",\"is_verified\":false,\"profile_pic_url\":\"https://instagram.fbom14-1.fna.fbcdn.net/v/t51.2885-19/s150x150/79251757_608351986632186_5320290274339979264_n.jpg?_nc_ht=instagram.fbom14-1.fna.fbcdn.net\\u0026_nc_ohc=BkCIHFvA860AX8yuUQm\\u0026oh=05fa6401050e0449e16d25ffc32c22a7\\u0026oe=5F6281C7\",\"username\":\"govindsingh79196\"},\"viewer_has_liked\":false,\"edge_liked_by\":{\"count\":0},\"is_restricted_pending\":false,\"edge_threaded_comments\":{\"count\":0,\"page_info\":{\"has_next_page\":false,\"end_cursor\":null},\"edges\":[]}}}]},\"edge_media_to_hoisted_comment\":{\"edges\":[]},\"edge_media_preview_comment\":{\"count\":477,\"edges\":[{\"node\":{\"id\":\"18160698547041153\",\"text\":\"Nice look\",\"created_at\":1597653618,\"did_report_as_spam\":false,\"owner\":{\"id\":\"37326174852\",\"is_verified\":false,\"profile_pic_url\":\"https://instagram.fbom14-1.fna.fbcdn.net/v/t51.2885-19/s150x150/104005546_665670734277120_8960483711595831931_n.jpg?_nc_ht=instagram.fbom14-1.fna.fbcdn.net\\u0026_nc_ohc=RgwZtmOIp2IAX-Tab8Z\\u0026oh=5b6523e33cd4b03e93269b9965cb59f2\\u0026oe=5F63FB87\",\"username\":\"altaf.mansuri.9026040\"},\"viewer_has_liked\":false,\"edge_liked_by\":{\"count\":0},\"is_restricted_pending\":false}},{\"node\":{\"id\":\"17885095195679099\",\"text\":\"\\ud83d\\udc4c\\ud83d\\udc4c\\u2764\\ufe0f\\u2764\\ufe0f\",\"created_at\":1597653709,\"did_report_as_spam\":false,\"owner\":{\"id\":\"27070588144\",\"is_verified\":false,\"profile_pic_url\":\"https://instagram.fbom14-1.fna.fbcdn.net/v/t51.2885-19/s150x150/79251757_608351986632186_5320290274339979264_n.jpg?_nc_ht=instagram.fbom14-1.fna.fbcdn.net\\u0026_nc_ohc=BkCIHFvA860AX8yuUQm\\u0026oh=05fa6401050e0449e16d25ffc32c22a7\\u0026oe=5F6281C7\",\"username\":\"govindsingh79196\"},\"viewer_has_liked\":false,\"edge_liked_by\":{\"count\":0},\"is_restricted_pending\":false}}]},\"comments_disabled\":false,\"commenting_disabled_for_viewer\":false,\"taken_at_timestamp\":1597625541,\"edge_media_preview_like\":{\"count\":10562,\"edges\":[]},\"edge_media_to_sponsor_user\":{\"edges\":[]},\"location\":null,\"viewer_has_liked\":false,\"viewer_has_saved\":false,\"viewer_has_saved_to_collection\":false,\"viewer_in_photo_of_you\":false,\"viewer_can_reshare\":true,\"owner\":{\"id\":\"10965380545\",\"is_verified\":false,\"profile_pic_url\":\"https://instagram.fbom14-1.fna.fbcdn.net/v/t51.2885-19/s150x150/100876487_247532306340217_9154414481491623936_n.jpg?_nc_ht=instagram.fbom14-1.fna.fbcdn.net\\u0026_nc_ohc=LRT6XKM0XeIAX-8TsWQ\\u0026oh=26244d977b3098fc0e211b8b8e929858\\u0026oe=5F65AA0E\",\"username\":\"jito_kaur\",\"blocked_by_viewer\":false,\"restricted_by_viewer\":null,\"followed_by_viewer\":false,\"full_name\":\"Manjeet Kaur \\ud83d\\udd35\",\"has_blocked_viewer\":false,\"is_private\":false,\"is_unpublished\":false,\"requested_by_viewer\":false,\"edge_owner_to_timeline_media\":{\"count\":283},\"edge_followed_by\":{\"count\":804406}},\"is_ad\":false,\"edge_web_media_to_related_media\":{\"edges\":[]},\"edge_related_profiles\":{\"edges\":[]}}}}]},\"hostname\":\"www.instagram.com\",\"is_whitelisted_crawl_bot\":false,\"deployment_stage\":\"c2\",\"platform\":\"web\",\"nonce\":\"XEJC8c/IAvNQzBKDN/3Bjw==\",\"mid_pct\":34.65376,\"zero_data\":{},\"cache_schema_version\":3,\"server_checks\":{},\"knobx\":{\"17\":false,\"20\":true,\"22\":true,\"23\":true,\"24\":true,\"25\":true,\"26\":true,\"27\":true,\"28\":true,\"29\":true,\"30\":true,\"31\":false,\"32\":false,\"4\":false},\"to_cache\":{\"gatekeepers\":{\"10\":false,\"100\":false,\"101\":true,\"102\":true,\"103\":true,\"104\":true,\"105\":true,\"106\":true,\"107\":false,\"108\":true,\"11\":false,\"112\":true,\"113\":true,\"114\":true,\"116\":true,\"117\":true,\"119\":false,\"12\":false,\"120\":true,\"123\":false,\"126\":false,\"128\":false,\"129\":false,\"13\":true,\"131\":false,\"132\":false,\"137\":false,\"14\":true,\"140\":false,\"141\":false,\"142\":true,\"143\":false,\"144\":false,\"145\":false,\"146\":true,\"147\":false,\"149\":false,\"15\":true,\"150\":false,\"151\":true,\"152\":false,\"16\":true,\"18\":true,\"19\":false,\"23\":false,\"24\":false,\"26\":true,\"27\":false,\"28\":false,\"29\":true,\"31\":false,\"32\":true,\"34\":false,\"35\":false,\"38\":true,\"4\":true,\"40\":true,\"41\":false,\"43\":true,\"5\":false,\"59\":true,\"6\":false,\"61\":false,\"62\":false,\"63\":false,\"64\":false,\"65\":false,\"67\":true,\"68\":false,\"69\":true,\"7\":false,\"71\":false,\"73\":false,\"74\":false,\"75\":true,\"77\":true,\"78\":true,\"79\":false,\"8\":false,\"81\":false,\"82\":true,\"84\":false,\"86\":false,\"88\":true,\"9\":false,\"91\":false,\"95\":true,\"97\":false,\"99\":false},\"qe\":{\"app_upsell\":{\"g\":\"\",\"p\":{}},\"igl_app_upsell\":{\"g\":\"\",\"p\":{}},\"notif\":{\"g\":\"\",\"p\":{}},\"onetaplogin\":{\"g\":\"\",\"p\":{}},\"felix_clear_fb_cookie\":{\"g\":\"\",\"p\":{}},\"felix_creation_duration_limits\":{\"g\":\"\",\"p\":{}},\"felix_creation_fb_crossposting\":{\"g\":\"\",\"p\":{}},\"felix_creation_fb_crossposting_v2\":{\"g\":\"\",\"p\":{}},\"felix_creation_validation\":{\"g\":\"\",\"p\":{}},\"post_options\":{\"g\":\"\",\"p\":{}},\"sticker_tray\":{\"g\":\"\",\"p\":{}},\"web_sentry\":{\"g\":\"\",\"p\":{}},\"0\":{\"p\":{\"9\":false},\"l\":{},\"qex\":true},\"100\":{\"p\":{\"0\":true},\"l\":{},\"qex\":true},\"101\":{\"p\":{\"0\":false,\"1\":false},\"l\":{},\"qex\":true},\"102\":{\"p\":{\"0\":true},\"l\":{},\"qex\":true},\"103\":{\"p\":{\"1\":false},\"l\":{},\"qex\":true},\"104\":{\"p\":{\"0\":true},\"l\":{},\"qex\":true},\"108\":{\"p\":{\"0\":false,\"1\":false},\"l\":{},\"qex\":true},\"109\":{\"p\":{},\"l\":{},\"qex\":true},\"111\":{\"p\":{\"0\":false,\"1\":false},\"l\":{},\"qex\":true},\"113\":{\"p\":{\"0\":true,\"1\":false,\"2\":true,\"4\":false,\"5\":false,\"7\":false,\"8\":false},\"l\":{},\"qex\":true},\"116\":{\"p\":{\"1\":true,\"2\":1},\"l\":{\"1\":true},\"qex\":true},\"117\":{\"p\":{\"0\":true},\"l\":{},\"qex\":true},\"118\":{\"p\":{\"0\":false,\"1\":true,\"2\":false},\"l\":{},\"qex\":true},\"119\":{\"p\":{\"0\":false,\"1\":false},\"l\":{\"1\":true},\"qex\":true},\"12\":{\"p\":{\"0\":5},\"l\":{},\"qex\":true},\"120\":{\"p\":{\"0\":false},\"l\":{},\"qex\":true},\"121\":{\"p\":{\"0\":true},\"l\":{},\"qex\":true},\"122\":{\"p\":{\"0\":false},\"l\":{},\"qex\":true},\"123\":{\"p\":{\"0\":true,\"1\":true},\"l\":{},\"qex\":true},\"124\":{\"p\":{\"0\":false,\"1\":true,\"2\":false},\"l\":{},\"qex\":true},\"125\":{\"p\":{\"0\":true},\"l\":{},\"qex\":true},\"126\":{\"p\":{\"0\":true},\"l\":{},\"qex\":true},\"127\":{\"p\":{\"0\":true,\"1\":false,\"2\":true},\"l\":{},\"qex\":true},\"128\":{\"p\":{\"0\":false,\"1\":false},\"l\":{},\"qex\":true},\"129\":{\"p\":{\"1\":false,\"2\":false},\"l\":{},\"qex\":true},\"13\":{\"p\":{\"0\":true},\"l\":{},\"qex\":true},\"131\":{\"p\":{\"2\":false},\"l\":{},\"qex\":true},\"132\":{\"p\":{\"0\":false},\"l\":{\"0\":true},\"qex\":true},\"134\":{\"p\":{\"0\":false},\"l\":{},\"qex\":true},\"135\":{\"p\":{\"0\":false,\"1\":false,\"2\":false,\"3\":false},\"l\":{\"3\":true},\"qex\":true},\"137\":{\"p\":{},\"l\":{},\"qex\":true},\"138\":{\"p\":{},\"l\":{},\"qex\":true},\"139\":{\"p\":{},\"l\":{},\"qex\":true},\"140\":{\"p\":{},\"l\":{},\"qex\":true},\"16\":{\"p\":{\"0\":false},\"l\":{},\"qex\":true},\"21\":{\"p\":{\"2\":false},\"l\":{},\"qex\":true},\"22\":{\"p\":{\"1\":false,\"10\":0.0,\"11\":15,\"12\":3,\"13\":false,\"2\":8.0,\"3\":0.85,\"4\":0.95},\"l\":{},\"qex\":true},\"23\":{\"p\":{\"0\":false,\"1\":false},\"l\":{},\"qex\":true},\"25\":{\"p\":{},\"l\":{},\"qex\":true},\"26\":{\"p\":{\"0\":\"\"},\"l\":{},\"qex\":true},\"28\":{\"p\":{\"0\":false},\"l\":{},\"qex\":true},\"29\":{\"p\":{},\"l\":{},\"qex\":true},\"31\":{\"p\":{},\"l\":{},\"qex\":true},\"33\":{\"p\":{},\"l\":{},\"qex\":true},\"34\":{\"p\":{\"0\":false},\"l\":{},\"qex\":true},\"36\":{\"p\":{\"0\":true,\"1\":true,\"2\":false,\"3\":false,\"4\":false},\"l\":{},\"qex\":true},\"37\":{\"p\":{\"0\":false},\"l\":{},\"qex\":true},\"39\":{\"p\":{\"0\":false,\"14\":false,\"8\":false},\"l\":{},\"qex\":true},\"41\":{\"p\":{\"3\":true},\"l\":{},\"qex\":true},\"42\":{\"p\":{\"0\":true},\"l\":{},\"qex\":true},\"43\":{\"p\":{\"0\":false,\"1\":false,\"2\":false},\"l\":{},\"qex\":true},\"44\":{\"p\":{\"1\":\"inside_media\",\"2\":0.2},\"l\":{},\"qex\":true},\"45\":{\"p\":{\"13\":false,\"17\":0,\"26\":\"control\",\"32\":false,\"33\":false,\"35\":false,\"36\":\"control\",\"37\":false,\"38\":false,\"40\":\"control\"},\"l\":{},\"qex\":true},\"46\":{\"p\":{\"0\":false},\"l\":{},\"qex\":true},\"47\":{\"p\":{\"0\":true,\"1\":true,\"10\":false,\"11\":false,\"2\":false,\"3\":false,\"9\":false},\"l\":{},\"qex\":true},\"49\":{\"p\":{\"0\":false},\"l\":{},\"qex\":true},\"50\":{\"p\":{\"0\":false},\"l\":{},\"qex\":true},\"54\":{\"p\":{\"0\":false},\"l\":{},\"qex\":true},\"55\":{\"p\":{\"0\":false},\"l\":{},\"qex\":true},\"58\":{\"p\":{\"0\":0.0,\"1\":false},\"l\":{},\"qex\":true},\"59\":{\"p\":{\"0\":true},\"l\":{},\"qex\":true},\"62\":{\"p\":{\"0\":false},\"l\":{},\"qex\":true},\"65\":{\"p\":{},\"l\":{},\"qex\":true},\"67\":{\"p\":{\"0\":true,\"1\":true,\"2\":true,\"3\":true,\"4\":false,\"5\":true,\"7\":false},\"l\":{\"4\":true,\"5\":true},\"qex\":true},\"69\":{\"p\":{\"0\":true},\"l\":{},\"qex\":true},\"71\":{\"p\":{\"1\":\"^/explore/.*|^/accounts/activity/$\"},\"l\":{},\"qex\":true},\"72\":{\"p\":{\"1\":false,\"2\":false},\"l\":{\"1\":true,\"2\":true},\"qex\":true},\"73\":{\"p\":{\"0\":false},\"l\":{},\"qex\":true},\"74\":{\"p\":{\"1\":true,\"12\":false,\"13\":false,\"14\":false,\"15\":false,\"2\":false,\"3\":true,\"4\":false,\"7\":false,\"9\":true},\"l\":{\"14\":true},\"qex\":true},\"75\":{\"p\":{\"0\":true},\"l\":{},\"qex\":true},\"77\":{\"p\":{\"1\":false},\"l\":{},\"qex\":true},\"78\":{\"p\":{\"0\":true,\"1\":true,\"2\":true,\"3\":true,\"5\":true},\"l\":{},\"qex\":true},\"80\":{\"p\":{\"3\":true,\"4\":false},\"l\":{},\"qex\":true},\"84\":{\"p\":{\"0\":true,\"1\":true,\"2\":true,\"3\":true,\"4\":true,\"5\":true,\"6\":false,\"8\":false},\"l\":{},\"qex\":true},\"85\":{\"p\":{\"0\":false,\"1\":\"Pictures and Videos\"},\"l\":{},\"qex\":true},\"87\":{\"p\":{\"0\":true},\"l\":{},\"qex\":true},\"93\":{\"p\":{\"0\":true},\"l\":{},\"qex\":true},\"95\":{\"p\":{\"0\":false,\"1\":false},\"l\":{},\"qex\":true},\"98\":{\"p\":{\"1\":false},\"l\":{},\"qex\":true}},\"probably_has_app\":false,\"cb\":false},\"device_id\":\"FB33845A-66C6-4CBC-84E3-672DC7B9941C\",\"encryption\":{\"key_id\":\"66\",\"public_key\":\"93d88ebcc4e89761a205bdbc4648e5921a59a4e1ec975edbbc12aa747ec37652\",\"version\":\"10\"},\"is_dev\":false,\"signal_collection_config\":null,\"rollout_hash\":\"6c1095215b70-hot\",\"bundle_variant\":\"metro\",\"frontend_env\":\"c1f\"};</script>\n",
      "<script type=\"text/javascript\">window.__initialDataLoaded(window._sharedData);</script>\n",
      "<script type=\"text/javascript\">var __BUNDLE_START_TIME__=this.nativePerformanceNow?nativePerformanceNow():Date.now(),__DEV__=false,process=this.process||{};process.env=process.env||{};process.env.NODE_ENV=process.env.NODE_ENV||\"production\";!(function(r){\"use strict\";function e(){return c=Object.create(null)}function t(r){var e=r,t=c[e];return t&&t.isInitialized?t.publicModule.exports:o(e,t)}function n(r){var e=r;if(c[e]&&c[e].importedDefault!==f)return c[e].importedDefault;var n=t(e),i=n&&n.__esModule?n.default:n;return c[e].importedDefault=i}function i(r){var e=r;if(c[e]&&c[e].importedAll!==f)return c[e].importedAll;var n,i=t(e);if(i&&i.__esModule)n=i;else{if(n={},i)for(var o in i)p.call(i,o)&&(n[o]=i[o]);n.default=i}return c[e].importedAll=n}function o(e,t){if(!s&&r.ErrorUtils){s=!0;var n;try{n=u(e,t)}catch(e){r.ErrorUtils.reportFatalError(e)}return s=!1,n}return u(e,t)}function l(r){return{segmentId:r>>>v,localId:r&h}}function u(e,o){if(!o&&g.length>0){var u=l(e),f=u.segmentId,p=u.localId,s=g[f];null!=s&&(s(p),o=c[e])}var v=r.nativeRequire;if(!o&&v){var h=l(e),I=h.segmentId;v(h.localId,I),o=c[e]}if(!o)throw a(e);if(o.hasError)throw d(e,o.error);o.isInitialized=!0;var _=o,w=_.factory,y=_.dependencyMap;try{var M=o.publicModule;if(M.id=e,m.length>0)for(var b=0;b<m.length;++b)m[b].cb(e,M);return w(r,t,n,i,M,M.exports,y),o.factory=void 0,o.dependencyMap=void 0,M.exports}catch(r){throw o.hasError=!0,o.error=r,o.isInitialized=!1,o.publicModule.exports=void 0,r}}function a(r){var e='Requiring unknown module \"'+r+'\".';return Error(e)}function d(r,e){var t=r;return Error('Requiring module \"'+t+'\", which threw an exception: '+e)}r.__r=t,r.__d=function(r,e,t){null==c[e]&&(c[e]={dependencyMap:t,factory:r,hasError:!1,importedAll:f,importedDefault:f,isInitialized:!1,publicModule:{exports:{}}})},r.__c=e,r.__registerSegment=function(r,e){g[r]=e};var c=e(),f={},p={}.hasOwnProperty;t.importDefault=n,t.importAll=i;var s=!1,v=16,h=65535;t.unpackModuleId=l,t.packModuleId=function(r){return(r.segmentId<<v)+r.localId};var m=[];t.registerHook=function(r){var e={cb:r};return m.push(e),{release:function(){for(var r=0;r<m.length;++r)if(m[r]===e){m.splice(r,1);break}}}};var g=[]})('undefined'!=typeof global?global:'undefined'!=typeof window?window:this);\n",
      "__s={\"js\":{\"146\":\"/static/bundles/metro/PasswordEncryptionLogger.js/d683a892fb2b.js\",\"147\":\"/static/bundles/metro/EncryptionUtils.js/4606f05f85cd.js\",\"148\":\"/static/bundles/metro/MobileStoriesLoginPage.js/eb190ba397f9.js\",\"149\":\"/static/bundles/metro/DesktopStoriesLoginPage.js/e30ff79dcd5b.js\",\"150\":\"/static/bundles/metro/AvenyFont.js/a4de03cd349f.js\",\"151\":\"/static/bundles/metro/DirectSearchUserContainer.js/8aadc3363d83.js\",\"152\":\"/static/bundles/metro/StoriesDebugInfoNub.js/f11712a6b99f.js\",\"153\":\"/static/bundles/metro/MobileStoriesPage.js/2bda960c4a27.js\",\"154\":\"/static/bundles/metro/DesktopStoriesPage.js/261d2001180c.js\",\"155\":\"/static/bundles/metro/ActivityFeedPage.js/1efbfb931bf4.js\",\"156\":\"/static/bundles/metro/AdsSettingsPage.js/6203d1c4664d.js\",\"157\":\"/static/bundles/metro/DonateCheckoutPage.js/968e55c939cc.js\",\"158\":\"/static/bundles/metro/FundraiserWebView.js/c788f74544db.js\",\"159\":\"/static/bundles/metro/CameraPage.js/69823e6b2f66.js\",\"160\":\"/static/bundles/metro/SettingsModules.js/e1ca341ccaf9.js\",\"161\":\"/static/bundles/metro/ContactHistoryPage.js/20302757e1b2.js\",\"162\":\"/static/bundles/metro/AccessToolPage.js/662f8496a757.js\",\"163\":\"/static/bundles/metro/AccessToolViewAllPage.js/91f111268969.js\",\"164\":\"/static/bundles/metro/AccountPrivacyBugPage.js/5ea1982edf90.js\",\"165\":\"/static/bundles/metro/FirstPartyPlaintextPasswordLandingPage.js/242715913611.js\",\"166\":\"/static/bundles/metro/ThirdPartyPlaintextPasswordLandingPage.js/59afe5956125.js\",\"167\":\"/static/bundles/metro/ShoppingBagLandingPage.js/3e2dbd814ff2.js\",\"168\":\"/static/bundles/metro/PlaintextPasswordBugPage.js/0a2723534b4c.js\",\"169\":\"/static/bundles/metro/PrivateAccountMadePublicBugPage.js/96f41f002266.js\",\"170\":\"/static/bundles/metro/PublicAccountNotMadePrivateBugPage.js/e2e6c034f6d1.js\",\"171\":\"/static/bundles/metro/BlockedAccountsBugPage.js/a87aba1c25f5.js\",\"172\":\"/static/bundles/metro/AndroidBetaPrivacyBugPage.js/ce45819bb7d7.js\",\"173\":\"/static/bundles/metro/DataControlsSupportPage.js/7fb1d5c4af1e.js\",\"174\":\"/static/bundles/metro/DataDownloadRequestPage.js/425c25f5d6c1.js\",\"175\":\"/static/bundles/metro/DataDownloadRequestConfirmPage.js/0dec4051a299.js\",\"176\":\"/static/bundles/metro/CheckpointUnderageAppealPage.js/c25a759eb4f7.js\",\"177\":\"/static/bundles/metro/AccountRecoveryLandingPage.js/ab9cd69ba9c0.js\",\"178\":\"/static/bundles/metro/ContactInvitesOptOutPage.js/3540bad3b61f.js\",\"179\":\"/static/bundles/metro/ParentalConsentPage.js/f075be8f979a.js\",\"180\":\"/static/bundles/metro/ParentalConsentNotParentPage.js/65b434c862a3.js\",\"181\":\"/static/bundles/metro/TermsAcceptPage.js/b7ab63a32699.js\",\"182\":\"/static/bundles/metro/TermsUnblockPage.js/e0b402b9ab3e.js\",\"183\":\"/static/bundles/metro/NewTermsConfirmPage.js/618705282057.js\",\"184\":\"/static/bundles/metro/ContactInvitesOptOutStatusPage.js/f74026375931.js\",\"185\":\"/static/bundles/metro/CreationModules.js/0e3c17f669a2.js\",\"186\":\"/static/bundles/metro/StoryCreationPage.js/776e6aa2da84.js\",\"187\":\"/static/bundles/metro/PostCommentInput.js/d4efd3901365.js\",\"190\":\"/static/bundles/metro/NewsworthyContentShareFrictionModal.js/fddc783c3386.js\",\"191\":\"/static/bundles/metro/PostModalEntrypoint.js/050b82093aaf.js\",\"192\":\"/static/bundles/metro/PostComments.js/61726da02600.js\",\"193\":\"/static/bundles/metro/LikedByListContainer.js/c1f5bbee3d31.js\",\"194\":\"/static/bundles/metro/CommentLikedByListContainer.js/397f3ed5b525.js\",\"195\":\"/static/bundles/metro/shaka-player.ui.js/36927205a8a8.js\",\"196\":\"/static/bundles/metro/DynamicExploreMediaPage.js/60fb1d2d11fe.js\",\"197\":\"/static/bundles/metro/DiscoverMediaPageContainer.js/bdb807f4f692.js\",\"198\":\"/static/bundles/metro/DiscoverPeoplePageContainer.js/850e64132111.js\",\"199\":\"/static/bundles/metro/EmailConfirmationPage.js/c3b25dfc69a2.js\",\"200\":\"/static/bundles/metro/EmailReportBadPasswordResetPage.js/9fd8487a4030.js\",\"201\":\"/static/bundles/metro/FBSignupPage.js/d37e293144e8.js\",\"202\":\"/static/bundles/metro/NewUserInterstitial.js/d80cfeffd9ec.js\",\"203\":\"/static/bundles/metro/MultiStepSignupPage.js/a205614e653f.js\",\"204\":\"/static/bundles/metro/EmptyFeedPage.js/656490594aec.js\",\"205\":\"/static/bundles/metro/NewUserActivatorsUnit.js/53d79ad46b5d.js\",\"206\":\"/static/bundles/metro/FeedEndSuggestedUserUnit.js/ef14cc07c600.js\",\"207\":\"/static/bundles/metro/FeedSidebarContainer.js/acb563d5bff7.js\",\"208\":\"/static/bundles/metro/SuggestedUserFeedUnitContainer.js/1bece5a5357e.js\",\"209\":\"/static/bundles/metro/InFeedStoryTray.js/427e6dc35151.js\",\"210\":\"/static/bundles/metro/FeedPageContainer.js/4ec4f9e98ea0.js\",\"211\":\"/static/bundles/metro/FollowListModal.js/3a25d18a5a9f.js\",\"212\":\"/static/bundles/metro/FollowListPage.js/d328a4725e9e.js\",\"213\":\"/static/bundles/metro/SimilarAccountsPage.js/40d11b95aced.js\",\"214\":\"/static/bundles/metro/oz-player.main.js/ee69d1e9c40b.js\",\"215\":\"/static/bundles/metro/LiveBroadcastPage.js/d3a85c2e2594.js\",\"216\":\"/static/bundles/metro/VotingInformationCenterPage.js/54db1150096a.js\",\"217\":\"/static/bundles/metro/FalseInformationLandingPage.js/01ce7e99ba0f.js\",\"218\":\"/static/bundles/metro/FalseInformationAppealsPage.js/f361707e0837.js\",\"219\":\"/static/bundles/metro/LandingPage.js/2c600ec783cb.js\",\"220\":\"/static/bundles/metro/LocationsDirectoryCountryPage.js/2d5e4ef3b0f5.js\",\"221\":\"/static/bundles/metro/LocationsDirectoryCityPage.js/0069cc84850b.js\",\"222\":\"/static/bundles/metro/LocationPageContainer.js/15c62972e43a.js\",\"223\":\"/static/bundles/metro/LocationsDirectoryLandingPage.js/d57af552ec0d.js\",\"224\":\"/static/bundles/metro/LoginAndSignupPage.js/f091063d36d6.js\",\"225\":\"/static/bundles/metro/FXCalLinkingAuthForm.js/021ab5a9d942.js\",\"226\":\"/static/bundles/metro/FXCalReauthLoginForm.js/bb42d88b1ac1.js\",\"227\":\"/static/bundles/metro/UpdateIGAppForHelpPage.js/ca547b8d772b.js\",\"228\":\"/static/bundles/metro/ResetPasswordPageContainer.js/2c1064da8fd2.js\",\"229\":\"/static/bundles/metro/MobileAllCommentsPage.js/4aaf285883df.js\",\"230\":\"/static/bundles/metro/MediaChainingPageContainer.js/e564244664b8.js\",\"231\":\"/static/bundles/metro/PostPageContainer.js/3be91f648ca8.js\",\"232\":\"/static/bundles/metro/ProfilesDirectoryLandingPage.js/63031251afcf.js\",\"233\":\"/static/bundles/metro/HashtagsDirectoryLandingPage.js/ac0a5d41ae4a.js\",\"234\":\"/static/bundles/metro/SuggestedDirectoryLandingPage.js/f2ab3fe67b19.js\",\"235\":\"/static/bundles/metro/ConsentWithdrawPage.js/0eab5dd6554c.js\",\"236\":\"/static/bundles/metro/ProductDetailsPage.js/2286f7942fea.js\",\"237\":\"/static/bundles/metro/ShoppingBagPage.js/0b0010cd9a21.js\",\"238\":\"/static/bundles/metro/ShoppingBagDetailsPage.js/1fd2b4739c47.js\",\"239\":\"/static/bundles/metro/ProfessionalConversionModal.js/193d86175c6e.js\",\"240\":\"/static/bundles/metro/TagPageContainer.js/f0ffab253dbe.js\",\"241\":\"/static/bundles/metro/PhoneConfirmPage.js/3fe77a881779.js\",\"242\":\"/static/bundles/metro/SimilarAccountsModal.js/169e0edd301c.js\",\"243\":\"/static/bundles/metro/ProfilePageContainer.js/f5cf54d9313c.js\",\"244\":\"/static/bundles/metro/HttpErrorPage.js/575cacb4ebf1.js\",\"245\":\"/static/bundles/metro/IGTVVideoDraftsPageContainer.js/70920a98ac88.js\",\"246\":\"/static/bundles/metro/IGTVVideoUploadPageContainer.js/137828fca5f6.js\",\"247\":\"/static/bundles/metro/OAuthPermissionsPage.js/f90577129c77.js\",\"248\":\"/static/bundles/metro/MobileDirectPage.js/3cded9c282d1.js\",\"249\":\"/static/bundles/metro/DesktopDirectPage.js/cbb0054a4653.js\",\"250\":\"/static/bundles/metro/GuideModalEntrypoint.js/accd0b4560d2.js\",\"251\":\"/static/bundles/metro/GuidePage.js/4ae7edc31d48.js\",\"252\":\"/static/bundles/metro/SavedCollectionPage.js/116255630a04.js\",\"253\":\"/static/bundles/metro/OneTapUpsell.js/554f8c0c021a.js\",\"254\":\"/static/bundles/metro/AvenyMediumFont.js/29bdb5727c72.js\",\"255\":\"/static/bundles/metro/NametagLandingPage.js/3fae154fb954.js\",\"256\":\"/static/bundles/metro/LocalDevTransactionToolSelectorPage.js/bfba3bfe4eec.js\",\"257\":\"/static/bundles/metro/FBEAppStoreErrorPage.js/698a068727ab.js\",\"258\":\"/static/bundles/metro/BloksShellPage.js/d1e455b5786f.js\",\"259\":\"/static/bundles/metro/BusinessCategoryPageContainer.js/0221f5765228.js\",\"260\":\"/static/bundles/metro/BusinessProfileDirectoryPage.js/334d3429e9b3.js\",\"261\":\"/static/bundles/metro/BloksPage.js/d2dedefe9004.js\",\"264\":\"/static/bundles/metro/ActivityFeedBox.js/db3f5223f270.js\",\"265\":\"/static/bundles/metro/DirectMQTT.js/0bc2b5a1dd2a.js\",\"266\":\"/static/bundles/metro/Consumer.js/db05911cfc10.js\",\"267\":\"/static/bundles/metro/Challenge.js/5621861d35c9.js\",\"268\":\"/static/bundles/metro/NotificationLandingPage.js/f54908725e65.js\",\"287\":\"/static/bundles/metro/EmbedRich.js/2ffc42bf516f.js\",\"288\":\"/static/bundles/metro/EmbedVideoWrapper.js/575526450b22.js\",\"289\":\"/static/bundles/metro/EmbedSidecarEntrypoint.js/1e32c21d9bbe.js\",\"290\":\"/static/bundles/metro/EmbedGuideEntrypoint.js/f0c4e1213b5a.js\",\"291\":\"/static/bundles/metro/EmbedAsyncLogger.js/691feccf3b63.js\"},\"css\":{\"148\":\"/static/bundles/metro/MobileStoriesLoginPage.css/07398b83baa9.css\",\"149\":\"/static/bundles/metro/DesktopStoriesLoginPage.css/eed8d69eb866.css\",\"150\":\"/static/bundles/metro/AvenyFont.css/25fd69ff2266.css\",\"151\":\"/static/bundles/metro/DirectSearchUserContainer.css/ad12791c2bf9.css\",\"152\":\"/static/bundles/metro/StoriesDebugInfoNub.css/4bc325bd3e84.css\",\"153\":\"/static/bundles/metro/MobileStoriesPage.css/5ab41a0e3744.css\",\"154\":\"/static/bundles/metro/DesktopStoriesPage.css/e2c61f497c87.css\",\"155\":\"/static/bundles/metro/ActivityFeedPage.css/8883e00644ef.css\",\"156\":\"/static/bundles/metro/AdsSettingsPage.css/4090cc41ba56.css\",\"157\":\"/static/bundles/metro/DonateCheckoutPage.css/12ec607b5f17.css\",\"159\":\"/static/bundles/metro/CameraPage.css/19a143ab4347.css\",\"160\":\"/static/bundles/metro/SettingsModules.css/9002d469db6d.css\",\"161\":\"/static/bundles/metro/ContactHistoryPage.css/6450a9697d3b.css\",\"162\":\"/static/bundles/metro/AccessToolPage.css/77c8460b4d9b.css\",\"163\":\"/static/bundles/metro/AccessToolViewAllPage.css/61f9d399977f.css\",\"164\":\"/static/bundles/metro/AccountPrivacyBugPage.css/b084aece73a3.css\",\"165\":\"/static/bundles/metro/FirstPartyPlaintextPasswordLandingPage.css/d4c180511b0e.css\",\"166\":\"/static/bundles/metro/ThirdPartyPlaintextPasswordLandingPage.css/d4c180511b0e.css\",\"167\":\"/static/bundles/metro/ShoppingBagLandingPage.css/9ea9da8878b6.css\",\"168\":\"/static/bundles/metro/PlaintextPasswordBugPage.css/d4c180511b0e.css\",\"169\":\"/static/bundles/metro/PrivateAccountMadePublicBugPage.css/d4c180511b0e.css\",\"170\":\"/static/bundles/metro/PublicAccountNotMadePrivateBugPage.css/d4c180511b0e.css\",\"171\":\"/static/bundles/metro/BlockedAccountsBugPage.css/d4c180511b0e.css\",\"172\":\"/static/bundles/metro/AndroidBetaPrivacyBugPage.css/158f7ff45015.css\",\"173\":\"/static/bundles/metro/DataControlsSupportPage.css/2c93110330b6.css\",\"174\":\"/static/bundles/metro/DataDownloadRequestPage.css/526b60394de5.css\",\"175\":\"/static/bundles/metro/DataDownloadRequestConfirmPage.css/5deaa1b33b08.css\",\"176\":\"/static/bundles/metro/CheckpointUnderageAppealPage.css/0dfde7fcc39c.css\",\"177\":\"/static/bundles/metro/AccountRecoveryLandingPage.css/c2fce7e557e0.css\",\"178\":\"/static/bundles/metro/ContactInvitesOptOutPage.css/16fb0ada266f.css\",\"179\":\"/static/bundles/metro/ParentalConsentPage.css/c5f1e68fdc65.css\",\"180\":\"/static/bundles/metro/ParentalConsentNotParentPage.css/6308e4086754.css\",\"181\":\"/static/bundles/metro/TermsAcceptPage.css/14b0bd420229.css\",\"182\":\"/static/bundles/metro/TermsUnblockPage.css/58dc1cabc72b.css\",\"183\":\"/static/bundles/metro/NewTermsConfirmPage.css/eefd956746e6.css\",\"184\":\"/static/bundles/metro/ContactInvitesOptOutStatusPage.css/c71af4588c9c.css\",\"185\":\"/static/bundles/metro/CreationModules.css/f0777c061b58.css\",\"186\":\"/static/bundles/metro/StoryCreationPage.css/a5c65c300576.css\",\"187\":\"/static/bundles/metro/PostCommentInput.css/b3211f75d858.css\",\"192\":\"/static/bundles/metro/PostComments.css/205108e2268c.css\",\"193\":\"/static/bundles/metro/LikedByListContainer.css/e1d35383229a.css\",\"194\":\"/static/bundles/metro/CommentLikedByListContainer.css/e1d35383229a.css\",\"196\":\"/static/bundles/metro/DynamicExploreMediaPage.css/d444add7c813.css\",\"197\":\"/static/bundles/metro/DiscoverMediaPageContainer.css/b10b9afcbae3.css\",\"198\":\"/static/bundles/metro/DiscoverPeoplePageContainer.css/6514d778d553.css\",\"199\":\"/static/bundles/metro/EmailConfirmationPage.css/d3ff48c961de.css\",\"200\":\"/static/bundles/metro/EmailReportBadPasswordResetPage.css/e4462019534b.css\",\"201\":\"/static/bundles/metro/FBSignupPage.css/69fe845008ba.css\",\"202\":\"/static/bundles/metro/NewUserInterstitial.css/ff3166381a45.css\",\"203\":\"/static/bundles/metro/MultiStepSignupPage.css/5d38af6d00b4.css\",\"204\":\"/static/bundles/metro/EmptyFeedPage.css/e1ccedbdafd4.css\",\"206\":\"/static/bundles/metro/FeedEndSuggestedUserUnit.css/42e60023d1af.css\",\"207\":\"/static/bundles/metro/FeedSidebarContainer.css/80d2dea43880.css\",\"208\":\"/static/bundles/metro/SuggestedUserFeedUnitContainer.css/7daaa9d9b746.css\",\"209\":\"/static/bundles/metro/InFeedStoryTray.css/a63f4d3eb101.css\",\"210\":\"/static/bundles/metro/FeedPageContainer.css/6edda1b6ee42.css\",\"211\":\"/static/bundles/metro/FollowListModal.css/01706882108f.css\",\"212\":\"/static/bundles/metro/FollowListPage.css/7f9e9f11059e.css\",\"213\":\"/static/bundles/metro/SimilarAccountsPage.css/e089c4b9a237.css\",\"215\":\"/static/bundles/metro/LiveBroadcastPage.css/b9e8d4ad5255.css\",\"216\":\"/static/bundles/metro/VotingInformationCenterPage.css/3968de06cc13.css\",\"218\":\"/static/bundles/metro/FalseInformationAppealsPage.css/f7561461b909.css\",\"219\":\"/static/bundles/metro/LandingPage.css/8d927d69de86.css\",\"220\":\"/static/bundles/metro/LocationsDirectoryCountryPage.css/4dacfdb3fce0.css\",\"221\":\"/static/bundles/metro/LocationsDirectoryCityPage.css/4dacfdb3fce0.css\",\"222\":\"/static/bundles/metro/LocationPageContainer.css/ab5aef797ff3.css\",\"223\":\"/static/bundles/metro/LocationsDirectoryLandingPage.css/8d8beac67daf.css\",\"224\":\"/static/bundles/metro/LoginAndSignupPage.css/7843fc980a59.css\",\"225\":\"/static/bundles/metro/FXCalLinkingAuthForm.css/c228eff939ba.css\",\"226\":\"/static/bundles/metro/FXCalReauthLoginForm.css/00204ff3cc74.css\",\"227\":\"/static/bundles/metro/UpdateIGAppForHelpPage.css/6fb2336f846b.css\",\"228\":\"/static/bundles/metro/ResetPasswordPageContainer.css/d4c180511b0e.css\",\"229\":\"/static/bundles/metro/MobileAllCommentsPage.css/153ad91f9a17.css\",\"230\":\"/static/bundles/metro/MediaChainingPageContainer.css/4654d609485a.css\",\"231\":\"/static/bundles/metro/PostPageContainer.css/eb2004623ac0.css\",\"232\":\"/static/bundles/metro/ProfilesDirectoryLandingPage.css/b406e80cc262.css\",\"233\":\"/static/bundles/metro/HashtagsDirectoryLandingPage.css/b406e80cc262.css\",\"234\":\"/static/bundles/metro/SuggestedDirectoryLandingPage.css/b406e80cc262.css\",\"236\":\"/static/bundles/metro/ProductDetailsPage.css/beb76d9aeb9a.css\",\"237\":\"/static/bundles/metro/ShoppingBagPage.css/1bae09706657.css\",\"238\":\"/static/bundles/metro/ShoppingBagDetailsPage.css/20e3c3a3a20f.css\",\"239\":\"/static/bundles/metro/ProfessionalConversionModal.css/73eb67ac933c.css\",\"240\":\"/static/bundles/metro/TagPageContainer.css/d50e2490fab1.css\",\"241\":\"/static/bundles/metro/PhoneConfirmPage.css/59398e0ab679.css\",\"243\":\"/static/bundles/metro/ProfilePageContainer.css/9e4e34ef2e22.css\",\"244\":\"/static/bundles/metro/HttpErrorPage.css/97acfee23c4f.css\",\"245\":\"/static/bundles/metro/IGTVVideoDraftsPageContainer.css/b3f2af4bc2c1.css\",\"246\":\"/static/bundles/metro/IGTVVideoUploadPageContainer.css/8f1406ecfdde.css\",\"247\":\"/static/bundles/metro/OAuthPermissionsPage.css/f127ac651626.css\",\"248\":\"/static/bundles/metro/MobileDirectPage.css/8c00a30e4cb7.css\",\"249\":\"/static/bundles/metro/DesktopDirectPage.css/be8a60883353.css\",\"251\":\"/static/bundles/metro/GuidePage.css/f46143ab1672.css\",\"252\":\"/static/bundles/metro/SavedCollectionPage.css/59f7d2d57810.css\",\"253\":\"/static/bundles/metro/OneTapUpsell.css/c312b28c297e.css\",\"254\":\"/static/bundles/metro/AvenyMediumFont.css/410fb2643dbe.css\",\"255\":\"/static/bundles/metro/NametagLandingPage.css/0c3f6c69e197.css\",\"256\":\"/static/bundles/metro/LocalDevTransactionToolSelectorPage.css/3f8f9bb4c8a7.css\",\"257\":\"/static/bundles/metro/FBEAppStoreErrorPage.css/37c4f5efdab6.css\",\"258\":\"/static/bundles/metro/BloksShellPage.css/88f0898604c5.css\",\"259\":\"/static/bundles/metro/BusinessCategoryPageContainer.css/6d5296475a27.css\",\"260\":\"/static/bundles/metro/BusinessProfileDirectoryPage.css/6d21b33d645a.css\",\"261\":\"/static/bundles/metro/BloksPage.css/1923e6d88524.css\",\"264\":\"/static/bundles/metro/ActivityFeedBox.css/4fd90949862d.css\",\"266\":\"/static/bundles/metro/Consumer.css/e5e326c746ac.css\",\"267\":\"/static/bundles/metro/Challenge.css/96962950a715.css\",\"268\":\"/static/bundles/metro/NotificationLandingPage.css/c35e66b76f51.css\",\"287\":\"/static/bundles/metro/EmbedRich.css/1850839577b7.css\",\"288\":\"/static/bundles/metro/EmbedVideoWrapper.css/fafcdc519836.css\",\"289\":\"/static/bundles/metro/EmbedSidecarEntrypoint.css/d572c9ea88f1.css\",\"290\":\"/static/bundles/metro/EmbedGuideEntrypoint.css/08691a30ad3f.css\"}}</script>\n",
      "<script crossorigin=\"anonymous\" src=\"/static/bundles/metro/Polyfills.js/214704bdac54.js\" type=\"text/javascript\"></script>\n",
      "<script crossorigin=\"anonymous\" src=\"/static/bundles/metro/Vendor.js/5a56d51ae30f.js\" type=\"text/javascript\"></script>\n",
      "<script crossorigin=\"anonymous\" src=\"/static/bundles/metro/en_US.js/1d48e7514fff.js\" type=\"text/javascript\"></script>\n",
      "<script crossorigin=\"anonymous\" src=\"/static/bundles/metro/ConsumerLibCommons.js/ee3d36a43b0d.js\" type=\"text/javascript\"></script>\n",
      "<script crossorigin=\"anonymous\" src=\"/static/bundles/metro/ConsumerUICommons.js/d2e6557ed9bb.js\" type=\"text/javascript\"></script>\n",
      "<script crossorigin=\"anonymous\" src=\"/static/bundles/metro/ConsumerAsyncCommons.js/ee398168663c.js\" type=\"text/javascript\"></script>\n",
      "<script async=\"\" charset=\"utf-8\" crossorigin=\"anonymous\" src=\"/static/bundles/metro/Consumer.js/db05911cfc10.js\" type=\"text/javascript\"></script>\n",
      "<script async=\"\" charset=\"utf-8\" crossorigin=\"anonymous\" src=\"/static/bundles/metro/PostPageContainer.js/3be91f648ca8.js\" type=\"text/javascript\"></script>\n",
      "<script type=\"text/javascript\">\n",
      "(function(){\n",
      "  function normalizeError(err) {\n",
      "    var errorInfo = err.error || {};\n",
      "    var getConfigProp = function(propName, defaultValueIfNotTruthy) {\n",
      "      var propValue = window._sharedData && window._sharedData[propName];\n",
      "      return propValue ? propValue : defaultValueIfNotTruthy;\n",
      "    };\n",
      "    return {\n",
      "      line: err.line || errorInfo.message || 0,\n",
      "      column: err.column || 0,\n",
      "      name: 'InitError',\n",
      "      message: err.message || errorInfo.message || '',\n",
      "      script: errorInfo.script || '',\n",
      "      stack: errorInfo.stackTrace || errorInfo.stack || '',\n",
      "      timestamp: Date.now(),\n",
      "      ref: window.location.href,\n",
      "      deployment_stage: getConfigProp('deployment_stage', ''),\n",
      "      frontend_env: getConfigProp('frontend_env', 'prod'),\n",
      "      rollout_hash: getConfigProp('rollout_hash', ''),\n",
      "      is_prerelease: window.__PRERELEASE__ || false,\n",
      "      bundle_variant: getConfigProp('bundle_variant', null),\n",
      "      request_url: err.url || window.location.href,\n",
      "      response_status_code: errorInfo.statusCode || 0\n",
      "    }\n",
      "  }\n",
      "  window.addEventListener('load', function(){\n",
      "    if (window.__bufferedErrors && window.__bufferedErrors.length) {\n",
      "      if (window.caches && window.caches.keys && window.caches.delete) {\n",
      "        window.caches.keys().then(function(keys) {\n",
      "          keys.forEach(function(key) {\n",
      "            window.caches.delete(key)\n",
      "          })\n",
      "        })\n",
      "      }\n",
      "      window.__bufferedErrors.map(function(error) {\n",
      "        return normalizeError(error)\n",
      "      }).forEach(function(normalizedError) {\n",
      "        var request = new XMLHttpRequest();\n",
      "        request.open('POST', '/client_error/', true);\n",
      "        request.setRequestHeader('Content-Type', 'application/json; charset=utf-8');\n",
      "        request.send(JSON.stringify(normalizedError));\n",
      "      })\n",
      "    }\n",
      "  })\n",
      "}());\n",
      "</script>\n",
      "</body>\n",
      "</html>\n",
      "\n"
     ]
    }
   ],
   "source": [
    "print(soup)"
   ]
  },
  {
   "cell_type": "code",
   "execution_count": 24,
   "metadata": {},
   "outputs": [],
   "source": [
    "links = soup.find_all(\"a\")"
   ]
  },
  {
   "cell_type": "code",
   "execution_count": 25,
   "metadata": {},
   "outputs": [
    {
     "name": "stdout",
     "output_type": "stream",
     "text": [
      "[<a class=\"navbar-brand\" href=\"http://www.worldsteel.org\"><img alt=\"Worldsteel association\" src=\"/en/dam/jcr:6a397151-1e4e-4821-aec3-6859e2945d1e/logo.png\"/></a>, <a class=\"btn btn-md btn-ws-blue\" href=\"https://www.worldsteel.org/members-area.html\"><i aria-hidden=\"true\" class=\"fa fa-user\"></i> Members area </a>, <a href=\"/zh/about-steel.html\"><span>中文</span></a>, <a href=\"https://www.facebook.com/worldsteel\"><i aria-hidden=\"true\" class=\"fa fa-facebook-square\"></i></a>, <a href=\"https://twitter.com/worldsteel\"><i aria-hidden=\"true\" class=\"fa fa-twitter-square\"></i></a>, <a href=\"https://www.linkedin.com/company/world-steel-association\"><i aria-hidden=\"true\" class=\"fa fa-linkedin-square\"></i></a>, <a href=\"https://www.instagram.com/worldsteelassociation/\" style=\"margin-left:0px;margin-right:0px;\"><span class=\"fa-stack\"><i class=\"fa fa-square fa-stack-2x\"></i><i class=\"fa fa-instagram fa-stack-1x fa-inverse\"></i></span></a>, <a href=\"https://www.youtube.com/user/worldsteelorg?blend=5&amp;ob=5\"><i aria-hidden=\"true\" class=\"fa fa-youtube-square\"></i></a>, <a href=\"https://www.flickr.com/photos/worldsteel/albums\"><i aria-hidden=\"true\" class=\"fa fa-flickr\"></i></a>, <a href=\"/zh/about-steel.html\"><span>中文</span></a>, <a aria-expanded=\"false\" class=\"dropdown-toggle default-cursor\" data-toggle=\"dropdown\" href=\"\" role=\"button\">About us <i class=\"caret\"></i></a>, <a href=\"/about-us/who-we-are.html\">Who we are</a>, <a href=\"/about-us/antitrust.html\">Antitrust </a>, <a href=\"/about-us/worldsteel-membership.html\">Membership</a>, <a href=\"/about-us/steelie-awards.html\">Steelie Awards</a>, <a href=\"/about-us/positions-vacant.html\">Positions vacant</a>, <a aria-expanded=\"false\" class=\"dropdown-toggle default-cursor\" data-toggle=\"dropdown\" href=\"\" role=\"button\">About steel <i class=\"caret\"></i></a>, <a href=\"/about-steel/about-steel.html\">About steel</a>, <a href=\"/about-steel/steel-facts.html\">steelFacts</a>, <a href=\"/about-steel/lovesteel.html\">#lovesteel</a>, <a href=\"/about-steel/steel-glossary.html\">Glossary</a>, <a href=\"/our-stories.html\">Our stories </a>, <a aria-expanded=\"false\" class=\"dropdown-toggle default-cursor\" data-toggle=\"dropdown\" href=\"\" role=\"button\">Media centre <i class=\"caret\"></i></a>, <a href=\"/media-centre/image-library.html\">Image library</a>, <a href=\"/media-centre/press-releases.html\">Press releases</a>, <a href=\"/media-centre/Presentations-2020.html\">Presentations</a>, <a href=\"/media-centre/blog.html\">Steelblog</a>, <a href=\"/media-centre/industry-member-news.html\">Member news</a>, <a aria-expanded=\"false\" class=\"dropdown-toggle default-cursor\" data-toggle=\"dropdown\" href=\"\" role=\"button\">Steel by topic <i class=\"caret\"></i></a>, <a href=\"/steel-by-topic/circular-economy.html\">Circular economy</a>, <a href=\"/steel-by-topic/environment-climate-change.html\">Environment</a>, <a href=\"/steel-by-topic/life-cycle-thinking.html\">Life cycle thinking</a>, <a href=\"/steel-by-topic/raw-materials.html\">Raw materials</a>, <a href=\"/steel-by-topic/safety-and-health.html\">Safety and health</a>, <a href=\"/steel-by-topic/statistics.html\">Statistics</a>, <a href=\"/steel-by-topic/steel-markets.html\">Steel markets</a>, <a href=\"/steel-by-topic/steeluniversity.html\">steeluniversity</a>, <a href=\"/steel-by-topic/sustainability.html\">Sustainability</a>, <a href=\"/steel-by-topic/technology.html\">Technology</a>, <a aria-expanded=\"false\" class=\"dropdown-toggle default-cursor\" data-toggle=\"dropdown\" href=\"\" role=\"button\">Publications <i class=\"caret\"></i></a>, <a href=\"/publications/bookshop.html\">Bookshop</a>, <a href=\"/publications/fact-sheets.html\">Fact sheets</a>, <a href=\"/publications/infographics.html\">Infographics</a>, <a href=\"/publications/public-policy-papers.html\">Policy papers</a>, <a href=\"/publications/steel-reports.html\">Reports</a>, <a href=\"/search-result.html\">Search</a>, <a class=\"btn btn-md btn-ws-blue\" href=\"https://www.worldsteel.org/members-area.html\"><i aria-hidden=\"true\" class=\"fa fa-user\"></i> Members area</a>, <a href=\"/\">Home</a>, <a aria-controls=\"collapse0\" aria-expanded=\"true\" data-parent=\"#accordion_c41094cf-345b-4a31-a4f4-13a807344543\" data-toggle=\"collapse\" href=\"#collapse0c41094cf-345b-4a31-a4f4-13a807344543\" role=\"button\">\n",
      "      What is steel?\n",
      "      </a>, <a aria-controls=\"collapse1\" aria-expanded=\"false\" class=\"collapsed\" data-parent=\"#accordion_c41094cf-345b-4a31-a4f4-13a807344543\" data-toggle=\"collapse\" href=\"#collapse1c41094cf-345b-4a31-a4f4-13a807344543\" role=\"button\">\n",
      "      How is steel made?\n",
      "      </a>, <a href=\"/en/dam/jcr:7aa2a95d-448d-4c56-b62b-b2457f067cd9/SSY19%2520concise%2520version.pdf\">Steel Statistcal Yearbook 2019</a>, <a href=\"/steel-by-topic/statistics/World-Steel-in-Figures.html\">World Steel in Figures</a>, <a aria-controls=\"collapse2\" aria-expanded=\"false\" class=\"collapsed\" data-parent=\"#accordion_c41094cf-345b-4a31-a4f4-13a807344543\" data-toggle=\"collapse\" href=\"#collapse2c41094cf-345b-4a31-a4f4-13a807344543\" role=\"button\">\n",
      "      How many types of steel are there?\n",
      "      </a>, <a aria-controls=\"collapse3\" aria-expanded=\"false\" class=\"collapsed\" data-parent=\"#accordion_c41094cf-345b-4a31-a4f4-13a807344543\" data-toggle=\"collapse\" href=\"#collapse3c41094cf-345b-4a31-a4f4-13a807344543\" role=\"button\">\n",
      "      How much steel is produced in a year?\n",
      "      </a>, <a href=\"/steel-by-topic/statistics/World-Steel-in-Figures.html\">World Steel in Figures</a>, <a href=\"/steel-by-topic/statistics/steel-statistical-yearbook.html\">Steel Statiscal Yearbook</a>, <a aria-controls=\"collapse4\" aria-expanded=\"false\" class=\"collapsed\" data-parent=\"#accordion_c41094cf-345b-4a31-a4f4-13a807344543\" data-toggle=\"collapse\" href=\"#collapse4c41094cf-345b-4a31-a4f4-13a807344543\" role=\"button\">\n",
      "      What is smart manufacturing?\n",
      "      </a>, <a href=\"/about-steel/smart-manufacturing.html\">Smart manufacturing</a>, <a aria-controls=\"collapse5\" aria-expanded=\"false\" class=\"collapsed\" data-parent=\"#accordion_c41094cf-345b-4a31-a4f4-13a807344543\" data-toggle=\"collapse\" href=\"#collapse5c41094cf-345b-4a31-a4f4-13a807344543\" role=\"button\">\n",
      "      Is steel environmentally friendly and sustainable?\n",
      "      </a>, <a aria-controls=\"collapse6\" aria-expanded=\"false\" class=\"collapsed\" data-parent=\"#accordion_c41094cf-345b-4a31-a4f4-13a807344543\" data-toggle=\"collapse\" href=\"#collapse6c41094cf-345b-4a31-a4f4-13a807344543\" role=\"button\">\n",
      "      Can steel be recycled?\n",
      "      </a>, <a aria-controls=\"collapse7\" aria-expanded=\"false\" class=\"collapsed\" data-parent=\"#accordion_c41094cf-345b-4a31-a4f4-13a807344543\" data-toggle=\"collapse\" href=\"#collapse7c41094cf-345b-4a31-a4f4-13a807344543\" role=\"button\">\n",
      "      Which country makes the most steel?\n",
      "      </a>, <a href=\"/steel-by-topic/statistics/World-Steel-in-Figures.html\">World Steel in Figures publication</a>, <a href=\"/steel-by-topic/statistics/steel-statistical-yearbook.html\">Steel Statistical Yearbook</a>, <a href=\"/steel-by-topic/statistics/steel-data-viewer.html\">Steel Data Viewer</a>, <a aria-controls=\"collapse8\" aria-expanded=\"false\" class=\"collapsed\" data-parent=\"#accordion_c41094cf-345b-4a31-a4f4-13a807344543\" data-toggle=\"collapse\" href=\"#collapse8c41094cf-345b-4a31-a4f4-13a807344543\" role=\"button\">\n",
      "      Which company produces the most steel?\n",
      "      </a>, <a href=\"/steel-by-topic/statistics/World-Steel-in-Figures.html\">World Steel in Figures</a>, <a href=\"/steel-by-topic/statistics/top-producers.html\">page</a>, <a aria-controls=\"collapse9\" aria-expanded=\"false\" class=\"collapsed\" data-parent=\"#accordion_c41094cf-345b-4a31-a4f4-13a807344543\" data-toggle=\"collapse\" href=\"#collapse9c41094cf-345b-4a31-a4f4-13a807344543\" role=\"button\">\n",
      "      Who invented steel?\n",
      "      </a>, <a aria-controls=\"collapse10\" aria-expanded=\"false\" class=\"collapsed\" data-parent=\"#accordion_c41094cf-345b-4a31-a4f4-13a807344543\" data-toggle=\"collapse\" href=\"#collapse10c41094cf-345b-4a31-a4f4-13a807344543\" role=\"button\">\n",
      "      Why does steel rust?\n",
      "      </a>, <a data-doc-title=\"Overview of the steelmaking process\" href=\"/en/dam/jcr:177c8e5c-e02a-4e08-9dc6-cce7372b41c2/Overview%2520of%2520the%2520Steelmaking%2520Process_poster.pdf\" target=\"_blank\">\n",
      "<h3>Overview of the steelmaking process</h3>\n",
      "<img alt=\"Overview of the steelmaking process\" class=\"img-responsive rounded\" src=\"/en/dam/jcr:18eb93cb-646c-44ba-9d35-495dbba72955/coil_thumbnail.jpg\"/>\n",
      "<p class=\"download-link\"><span class=\"glyphicon glyphicon-download-alt\"></span> Download poster (PDF | 7 MB)</p>\n",
      "</a>, <a href=\"/about-steel/steel-facts.html\">\n",
      "<div class=\"highlight-box rounded c-s5 highlight-box-link\">\n",
      "<h3>steelFacts </h3>\n",
      "</div>\n",
      "</a>, <a href=\"/steel-by-topic/statistics/steel-data-viewer.html\">\n",
      "<div class=\"highlight-box rounded c-t10 highlight-box-link\">\n",
      "<h3>Steel Data Viewer</h3>\n",
      "</div>\n",
      "</a>, <a href=\"/steel-by-topic/steel-markets.html\">\n",
      "<div class=\"highlight-box rounded c-t3 highlight-box-link\">\n",
      "<h3>Steel markets</h3>\n",
      "</div>\n",
      "</a>, <a href=\"/about-steel/smart-manufacturing.html\">\n",
      "<div class=\"highlight-box rounded c-t2 highlight-box-link\">\n",
      "<h3>Smart manufacturing</h3>\n",
      "</div>\n",
      "</a>, <a href=\"/steel-by-topic/statistics/World-Steel-in-Figures.html\"><span class=\"glyphicon glyphicon-link\"></span> Publication: World Steel in Figures</a>, <a href=\"/steel-by-topic/statistics/steel-statistical-yearbook.html\"><span class=\"glyphicon glyphicon-link\"></span> Publication: Steel Statistical Yearbook</a>, <a href=\"http://www.worldsteel.org/steelstory/\" target=\"_blank\"><span class=\"glyphicon glyphicon-link\"></span> The story of steel: An animated timeline</a>, <a href=\"http://circulareconomy-worldsteel.org/\" target=\"_blank\"><span class=\"glyphicon glyphicon-link\"></span> Steel - the permanent material in the circular economy</a>, <a data-doc-title=\"The White Book of Steel\" href=\"/en/dam/jcr:7b406f65-3d94-4e8a-819f-c0b6e0c1624e/The%2520White%2520Book%2520of%2520Steel_web.pdf\" target=\"_blank\"><span class=\"glyphicon glyphicon-download-alt\"></span> The White Book of Steel <i>(PDF | 4 MB)</i></a>, <a href=\"/about-steel/steel-glossary.html\"><span class=\"glyphicon glyphicon-link\"></span> Steel glossary</a>, <a href=\"mailto:steel@worldsteel.org\">steel@worldsteel.org</a>, <a href=\"mailto:china@worldsteel.org\">china@worldsteel.org</a>, <a href=\"/global/copyright.html\" target=\"_blank\">© 2020 worldsteel</a>, <a href=\"/global/terms-of-use.html\" target=\"_blank\">Terms of use</a>, <a href=\"/global/privacy-policy.html\" target=\"_blank\">Privacy policy</a>, <a href=\"/global/cookie-policy.html\" target=\"_blank\">Cookie policy</a>, <a href=\"/sitemap.html\" target=\"_blank\">Sitemap</a>, <a href=\"https://www.steeluniversity.org\" target=\"_blank\">steeluniversity.org</a>, <a href=\"http://www.worldautosteel.org/\" target=\"_blank\">worldautosteel.org</a>, <a href=\"http://constructsteel.org/\" target=\"_blank\">constructsteel.org</a>, <a href=\"http://www.worldstainless.org/\" target=\"_blank\">worldstainless.org</a>, <a href=\"https://www.facebook.com/worldsteel\"><i aria-hidden=\"true\" class=\"fa fa-facebook-square\"></i></a>, <a href=\"https://twitter.com/worldsteel\"><i aria-hidden=\"true\" class=\"fa fa-twitter-square\"></i></a>, <a href=\"https://www.linkedin.com/authwall?trk=ripf&amp;trkInfo=AQHn2TCRJk6fLQAAAWZeEYc45o8xm9dYK8OkYkPrHYJ1f-c3ywy57UOUaQToRFb5rZ62juCoQqMRzAhRETr7Mi5iDUfrn71KEJtGB-12D_TNja3lO3I7aWmx0eQmq7hC-S0_wSg=&amp;originalReferer=https://www.worldsteel.org/&amp;sessionRedirect=https%3A%2F%2Fwww.linkedin.com%2Fcompany%2Fworld-steel-association\"><i aria-hidden=\"true\" class=\"fa fa-linkedin-square\"></i></a>, <a href=\"https://www.instagram.com/worldsteelassociation/\" style=\"margin-left:-2px;margin-right:-2px;\"><span class=\"fa-stack\"><i class=\"fa fa-square fa-stack-2x\"></i><i class=\"fa fa-instagram fa-stack-1x fa-inverse\"></i></span></a>, <a href=\"https://www.youtube.com/user/worldsteelorg?blend=5&amp;ob=5\"><i aria-hidden=\"true\" class=\"fa fa-youtube-square\"></i></a>, <a href=\"https://www.flickr.com/photos/worldsteel/albums\"><i aria-hidden=\"true\" class=\"fa fa-flickr\"></i></a>]\n"
     ]
    }
   ],
   "source": [
    "print(links)"
   ]
  },
  {
   "cell_type": "code",
   "execution_count": null,
   "metadata": {},
   "outputs": [],
   "source": []
  },
  {
   "cell_type": "code",
   "execution_count": null,
   "metadata": {},
   "outputs": [],
   "source": []
  },
  {
   "cell_type": "code",
   "execution_count": 10,
   "metadata": {},
   "outputs": [
    {
     "ename": "NameError",
     "evalue": "name 'soup' is not defined",
     "output_type": "error",
     "traceback": [
      "\u001b[1;31m---------------------------------------------------------------------------\u001b[0m",
      "\u001b[1;31mNameError\u001b[0m                                 Traceback (most recent call last)",
      "\u001b[1;32m<ipython-input-10-468935a8f34d>\u001b[0m in \u001b[0;36m<module>\u001b[1;34m\u001b[0m\n\u001b[1;32m----> 1\u001b[1;33m \u001b[0msoup\u001b[0m\u001b[1;33m\u001b[0m\u001b[1;33m\u001b[0m\u001b[0m\n\u001b[0m",
      "\u001b[1;31mNameError\u001b[0m: name 'soup' is not defined"
     ]
    }
   ],
   "source": []
  },
  {
   "cell_type": "code",
   "execution_count": 30,
   "metadata": {},
   "outputs": [
    {
     "data": {
      "text/plain": [
       "<title>ABOUT STEEL | worldsteel</title>"
      ]
     },
     "execution_count": 30,
     "metadata": {},
     "output_type": "execute_result"
    }
   ],
   "source": [
    "soup.title"
   ]
  },
  {
   "cell_type": "code",
   "execution_count": 33,
   "metadata": {},
   "outputs": [
    {
     "data": {
      "text/plain": [
       "'ABOUT STEEL | worldsteel'"
      ]
     },
     "execution_count": 33,
     "metadata": {},
     "output_type": "execute_result"
    }
   ],
   "source": [
    "soup.title.string\n",
    "\n"
   ]
  },
  {
   "cell_type": "code",
   "execution_count": 37,
   "metadata": {},
   "outputs": [
    {
     "data": {
      "text/plain": [
       "[<i aria-hidden=\"true\" class=\"fa fa-user\"></i>,\n",
       " <i aria-hidden=\"true\" class=\"fa fa-facebook-square\"></i>,\n",
       " <i aria-hidden=\"true\" class=\"fa fa-twitter-square\"></i>,\n",
       " <i aria-hidden=\"true\" class=\"fa fa-linkedin-square\"></i>,\n",
       " <i class=\"fa fa-square fa-stack-2x\"></i>,\n",
       " <i class=\"fa fa-instagram fa-stack-1x fa-inverse\"></i>,\n",
       " <i aria-hidden=\"true\" class=\"fa fa-youtube-square\"></i>,\n",
       " <i aria-hidden=\"true\" class=\"fa fa-flickr\"></i>,\n",
       " <i class=\"caret\"></i>,\n",
       " <i class=\"caret\"></i>,\n",
       " <i class=\"caret\"></i>,\n",
       " <i class=\"caret\"></i>,\n",
       " <i class=\"caret\"></i>,\n",
       " <i class=\"fa fa-search\"></i>,\n",
       " <i class=\"fa fa-search\"></i>,\n",
       " <i aria-hidden=\"true\" class=\"fa fa-user\"></i>,\n",
       " <i>(PDF | 4 MB)</i>,\n",
       " <i aria-hidden=\"true\" class=\"fa fa-facebook-square\"></i>,\n",
       " <i aria-hidden=\"true\" class=\"fa fa-twitter-square\"></i>,\n",
       " <i aria-hidden=\"true\" class=\"fa fa-linkedin-square\"></i>,\n",
       " <i class=\"fa fa-square fa-stack-2x\"></i>,\n",
       " <i class=\"fa fa-instagram fa-stack-1x fa-inverse\"></i>,\n",
       " <i aria-hidden=\"true\" class=\"fa fa-youtube-square\"></i>,\n",
       " <i aria-hidden=\"true\" class=\"fa fa-flickr\"></i>]"
      ]
     },
     "execution_count": 37,
     "metadata": {},
     "output_type": "execute_result"
    }
   ],
   "source": [
    "soup.find_all('i')"
   ]
  },
  {
   "cell_type": "code",
   "execution_count": null,
   "metadata": {},
   "outputs": [],
   "source": []
  },
  {
   "cell_type": "code",
   "execution_count": null,
   "metadata": {},
   "outputs": [],
   "source": []
  },
  {
   "cell_type": "code",
   "execution_count": null,
   "metadata": {},
   "outputs": [],
   "source": []
  }
 ],
 "metadata": {
  "kernelspec": {
   "display_name": "Python 3",
   "language": "python",
   "name": "python3"
  },
  "language_info": {
   "codemirror_mode": {
    "name": "ipython",
    "version": 3
   },
   "file_extension": ".py",
   "mimetype": "text/x-python",
   "name": "python",
   "nbconvert_exporter": "python",
   "pygments_lexer": "ipython3",
   "version": "3.8.3"
  }
 },
 "nbformat": 4,
 "nbformat_minor": 4
}
