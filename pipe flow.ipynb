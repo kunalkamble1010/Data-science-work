{
 "cells": [
  {
   "cell_type": "code",
   "execution_count": 1,
   "metadata": {},
   "outputs": [],
   "source": [
    "from math import *"
   ]
  },
  {
   "cell_type": "code",
   "execution_count": 29,
   "metadata": {},
   "outputs": [
    {
     "name": "stdout",
     "output_type": "stream",
     "text": [
      "Calculation\n"
     ]
    }
   ],
   "source": [
    "class fluidflow :\n",
    "    \n",
    "    def __init__(self):\n",
    "        print('Calculation')\n",
    "        \n",
    "    def pipe_size(self,Q,v):\n",
    "        self.Q= Q\n",
    "        self.v= v\n",
    "        d=sqrt(0.408*self.Q/self.v)\n",
    "        return round(d,3)\n",
    "    \n",
    "    def reynoldsn(self,density,v,d,viscocity):\n",
    "        self.density= density\n",
    "        self.v= v\n",
    "        self.d= d\n",
    "        self.viscosity=viscocity\n",
    "        Re=self.density*self.v*self.d/(self.viscosity)\n",
    "        if Re<2000:\n",
    "            print(\"Flow is Laminer : Re=\",Re)\n",
    "        if Re>2000:\n",
    "            print(\"Flow is Turbulent : Re=\",Re)\n",
    "        else:\n",
    "            print(\"Transition flow : Re=\",Re)\n",
    "        print('Re=',Re)\n",
    "        \n",
    "\n",
    "    def friction_factor(self,Re):\n",
    "        self.Re=Re\n",
    "        if Re<2000:\n",
    "            f=64/self.Re\n",
    "            print('Friction factor f=',f)\n",
    "        if Re>2000:\n",
    "            f=0.5\n",
    "            lhs=1/sqrt(f)\n",
    "            rhs=\n",
    "        \n",
    "    \n",
    "    def headloss_darcy(self,f,d,q=False,v=False,l=1):\n",
    "        self.f=f\n",
    "        self.d=d\n",
    "        self.v=v\n",
    "        self.l=l\n",
    "        self.q=q\n",
    "        if q==False:\n",
    "            h=(self.f*self.l*self.v**2)/(self.d*2*9.81)\n",
    "            print(\"h=\",round(h,4),'mtr')\n",
    "        if v==False:\n",
    "            print(\"Head loss in pipe taking flowrate\")\n",
    "            h=8*self.f*self.l*self.q**2/(9.81*self.d**5*pi**2)\n",
    "            print(\"h=\",round(h,4),'mtr')\n",
    "        \n",
    "        \n",
    "\n",
    "obj=fluidflow() \n",
    "#obj.pipe_size(100,0.6)\n",
    "#obj.headloss_darcy(f=0.05,d=0.05,v=0.8)\n",
    "\n",
    "#R=obj.reynoldsn(density=1000,v=0.9,d=0.05,viscocity=0.8/(10**3))\n"
   ]
  },
  {
   "cell_type": "code",
   "execution_count": 30,
   "metadata": {},
   "outputs": [
    {
     "name": "stdout",
     "output_type": "stream",
     "text": [
      "Friction factor f= 0.064\n"
     ]
    }
   ],
   "source": [
    "obj.friction_factor(Re=1000)"
   ]
  },
  {
   "cell_type": "code",
   "execution_count": null,
   "metadata": {},
   "outputs": [],
   "source": []
  }
 ],
 "metadata": {
  "kernelspec": {
   "display_name": "Python 3",
   "language": "python",
   "name": "python3"
  },
  "language_info": {
   "codemirror_mode": {
    "name": "ipython",
    "version": 3
   },
   "file_extension": ".py",
   "mimetype": "text/x-python",
   "name": "python",
   "nbconvert_exporter": "python",
   "pygments_lexer": "ipython3",
   "version": "3.8.3"
  }
 },
 "nbformat": 4,
 "nbformat_minor": 4
}
